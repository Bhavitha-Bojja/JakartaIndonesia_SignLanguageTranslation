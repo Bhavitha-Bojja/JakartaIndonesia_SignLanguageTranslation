{
  "cells": [
    {
      "cell_type": "code",
      "execution_count": 1,
      "metadata": {
        "id": "gilA6H5RfaUA"
      },
      "outputs": [],
      "source": [
        "import cv2\n",
        "from google.colab.patches import cv2_imshow"
      ]
    },
    {
      "cell_type": "code",
      "execution_count": 2,
      "metadata": {
        "colab": {
          "base_uri": "https://localhost:8080/"
        },
        "id": "hukuiEDdffeD",
        "outputId": "0f19b82b-0cb1-4553-cc7a-fa3e49da39b8"
      },
      "outputs": [
        {
          "output_type": "stream",
          "name": "stdout",
          "text": [
            "Mounted at /content/drive\n"
          ]
        }
      ],
      "source": [
        "from google.colab import drive\n",
        "drive.mount('/content/drive')"
      ]
    },
    {
      "cell_type": "code",
      "execution_count": 3,
      "metadata": {
        "colab": {
          "base_uri": "https://localhost:8080/"
        },
        "id": "4purImaofyVN",
        "outputId": "008cbbf3-338f-4ca2-f716-84fb9cfa88be"
      },
      "outputs": [
        {
          "output_type": "stream",
          "name": "stdout",
          "text": [
            "Collecting mediapipe\n",
            "  Downloading mediapipe-0.10.18-cp310-cp310-manylinux_2_17_x86_64.manylinux2014_x86_64.whl.metadata (9.7 kB)\n",
            "Requirement already satisfied: opencv-python in /usr/local/lib/python3.10/dist-packages (4.10.0.84)\n",
            "Requirement already satisfied: matplotlib in /usr/local/lib/python3.10/dist-packages (3.8.0)\n",
            "Requirement already satisfied: absl-py in /usr/local/lib/python3.10/dist-packages (from mediapipe) (1.4.0)\n",
            "Requirement already satisfied: attrs>=19.1.0 in /usr/local/lib/python3.10/dist-packages (from mediapipe) (24.2.0)\n",
            "Requirement already satisfied: flatbuffers>=2.0 in /usr/local/lib/python3.10/dist-packages (from mediapipe) (24.3.25)\n",
            "Requirement already satisfied: jax in /usr/local/lib/python3.10/dist-packages (from mediapipe) (0.4.33)\n",
            "Requirement already satisfied: jaxlib in /usr/local/lib/python3.10/dist-packages (from mediapipe) (0.4.33)\n",
            "Requirement already satisfied: numpy<2 in /usr/local/lib/python3.10/dist-packages (from mediapipe) (1.26.4)\n",
            "Requirement already satisfied: opencv-contrib-python in /usr/local/lib/python3.10/dist-packages (from mediapipe) (4.10.0.84)\n",
            "Requirement already satisfied: protobuf<5,>=4.25.3 in /usr/local/lib/python3.10/dist-packages (from mediapipe) (4.25.5)\n",
            "Collecting sounddevice>=0.4.4 (from mediapipe)\n",
            "  Downloading sounddevice-0.5.1-py3-none-any.whl.metadata (1.4 kB)\n",
            "Requirement already satisfied: sentencepiece in /usr/local/lib/python3.10/dist-packages (from mediapipe) (0.2.0)\n",
            "Requirement already satisfied: contourpy>=1.0.1 in /usr/local/lib/python3.10/dist-packages (from matplotlib) (1.3.1)\n",
            "Requirement already satisfied: cycler>=0.10 in /usr/local/lib/python3.10/dist-packages (from matplotlib) (0.12.1)\n",
            "Requirement already satisfied: fonttools>=4.22.0 in /usr/local/lib/python3.10/dist-packages (from matplotlib) (4.55.0)\n",
            "Requirement already satisfied: kiwisolver>=1.0.1 in /usr/local/lib/python3.10/dist-packages (from matplotlib) (1.4.7)\n",
            "Requirement already satisfied: packaging>=20.0 in /usr/local/lib/python3.10/dist-packages (from matplotlib) (24.2)\n",
            "Requirement already satisfied: pillow>=6.2.0 in /usr/local/lib/python3.10/dist-packages (from matplotlib) (11.0.0)\n",
            "Requirement already satisfied: pyparsing>=2.3.1 in /usr/local/lib/python3.10/dist-packages (from matplotlib) (3.2.0)\n",
            "Requirement already satisfied: python-dateutil>=2.7 in /usr/local/lib/python3.10/dist-packages (from matplotlib) (2.8.2)\n",
            "Requirement already satisfied: six>=1.5 in /usr/local/lib/python3.10/dist-packages (from python-dateutil>=2.7->matplotlib) (1.16.0)\n",
            "Requirement already satisfied: CFFI>=1.0 in /usr/local/lib/python3.10/dist-packages (from sounddevice>=0.4.4->mediapipe) (1.17.1)\n",
            "Requirement already satisfied: ml-dtypes>=0.2.0 in /usr/local/lib/python3.10/dist-packages (from jax->mediapipe) (0.4.1)\n",
            "Requirement already satisfied: opt-einsum in /usr/local/lib/python3.10/dist-packages (from jax->mediapipe) (3.4.0)\n",
            "Requirement already satisfied: scipy>=1.10 in /usr/local/lib/python3.10/dist-packages (from jax->mediapipe) (1.13.1)\n",
            "Requirement already satisfied: pycparser in /usr/local/lib/python3.10/dist-packages (from CFFI>=1.0->sounddevice>=0.4.4->mediapipe) (2.22)\n",
            "Downloading mediapipe-0.10.18-cp310-cp310-manylinux_2_17_x86_64.manylinux2014_x86_64.whl (36.1 MB)\n",
            "\u001b[2K   \u001b[90m━━━━━━━━━━━━━━━━━━━━━━━━━━━━━━━━━━━━━━━━\u001b[0m \u001b[32m36.1/36.1 MB\u001b[0m \u001b[31m34.5 MB/s\u001b[0m eta \u001b[36m0:00:00\u001b[0m\n",
            "\u001b[?25hDownloading sounddevice-0.5.1-py3-none-any.whl (32 kB)\n",
            "Installing collected packages: sounddevice, mediapipe\n",
            "Successfully installed mediapipe-0.10.18 sounddevice-0.5.1\n"
          ]
        }
      ],
      "source": [
        "!pip install mediapipe opencv-python matplotlib"
      ]
    },
    {
      "cell_type": "code",
      "source": [],
      "metadata": {
        "id": "BsyE9M52EyPW"
      },
      "execution_count": null,
      "outputs": []
    },
    {
      "cell_type": "markdown",
      "metadata": {
        "id": "8YaN_Qh3w1SH"
      },
      "source": [
        "#  Trim and Stanrdardize\n",
        "key points of the first step\n",
        "\n",
        "Trim:\n",
        "\n",
        "\n",
        "*   Removes empty/static frames from start and end of videos\n",
        "*   Uses motion detection to find meaningful action segments\n",
        "*   Keeps 5 frames before first motion and 5 frames after last motion\n",
        "\n",
        "\n",
        "Standardize:\n",
        "\n",
        "\n",
        "*   Calculates mean frame count across all videos\n",
        "*   resamples each video to match this mean frame count\n",
        "*   All videos end up with same number of frames: 113 frame\n",
        "\n"
      ]
    },
    {
      "cell_type": "code",
      "execution_count": 4,
      "metadata": {
        "colab": {
          "base_uri": "https://localhost:8080/"
        },
        "id": "TH7FJHfVffvE",
        "outputId": "f9be4a89-3981-466a-d5b2-a0582dc1d01e"
      },
      "outputs": [
        {
          "output_type": "stream",
          "name": "stdout",
          "text": [
            "Found 267 videos\n",
            "Calculating average video length...\n"
          ]
        },
        {
          "output_type": "stream",
          "name": "stderr",
          "text": [
            "100%|██████████| 267/267 [04:36<00:00,  1.04s/it]\n"
          ]
        },
        {
          "output_type": "stream",
          "name": "stdout",
          "text": [
            "Target frames per video: 113\n",
            "\n",
            "Processing videos...\n"
          ]
        },
        {
          "output_type": "stream",
          "name": "stderr",
          "text": [
            "100%|██████████| 267/267 [13:03<00:00,  2.94s/it]"
          ]
        },
        {
          "output_type": "stream",
          "name": "stdout",
          "text": [
            "\n",
            "Processing Summary:\n",
            "Total videos: 267\n",
            "Successfully processed: 267\n",
            "Failed: 0\n"
          ]
        },
        {
          "output_type": "stream",
          "name": "stderr",
          "text": [
            "\n"
          ]
        }
      ],
      "source": [
        "import cv2\n",
        "import numpy as np\n",
        "from pathlib import Path\n",
        "from tqdm import tqdm\n",
        "\n",
        "def process_sign_language_videos(input_folder, output_base_folder):\n",
        "    \"\"\"\n",
        "    Process sign language videos with error tracking\n",
        "    Parameters:\n",
        "    - input_folder: Path to folder containing input videos\n",
        "    - output_base_folder: Path to base folder where processed videos will be saved\n",
        "    Returns:\n",
        "    - processed_folder: Path object pointing to output folder\n",
        "    - failed_videos: List of tuples (video_path, error_message)\n",
        "    - successful_videos: List of successfully processed video paths\n",
        "    \"\"\"\n",
        "    # Convert input path to Path object\n",
        "    input_folder = Path(input_folder)\n",
        "    output_base_folder = Path(output_base_folder)\n",
        "\n",
        "    # Create output folders with new name\n",
        "    output_folder = output_base_folder / 'processed_videos_v2'\n",
        "    output_folder.mkdir(parents=True, exist_ok=True)\n",
        "\n",
        "    # Track processing status\n",
        "    failed_videos = []\n",
        "    successful_videos = []\n",
        "\n",
        "    # Find all MP4 files\n",
        "    video_files = list(input_folder.rglob('*.mp4'))\n",
        "    print(f\"Found {len(video_files)} videos\")\n",
        "\n",
        "    # First calculate mean video length\n",
        "    print(\"Calculating average video length...\")\n",
        "    frame_counts = []\n",
        "    for video_path in tqdm(video_files):\n",
        "        try:\n",
        "            cap = cv2.VideoCapture(str(video_path))\n",
        "            frame_counts.append(int(cap.get(cv2.CAP_PROP_FRAME_COUNT)))\n",
        "            cap.release()\n",
        "        except Exception as e:\n",
        "            failed_videos.append((video_path, f\"Error during frame count: {str(e)}\"))\n",
        "\n",
        "    if not frame_counts:\n",
        "        raise ValueError(\"No valid videos found for frame count calculation\")\n",
        "\n",
        "    target_frames = int(np.mean(frame_counts))\n",
        "    print(f\"Target frames per video: {target_frames}\")\n",
        "\n",
        "    # Process each video\n",
        "    print(\"\\nProcessing videos...\")\n",
        "    for video_path in tqdm(video_files):\n",
        "        try:\n",
        "            # Create output path preserving folder structure\n",
        "            relative_path = video_path.relative_to(input_folder)\n",
        "            output_path = output_folder / relative_path\n",
        "            output_path.parent.mkdir(parents=True, exist_ok=True)\n",
        "\n",
        "            # Read video\n",
        "            cap = cv2.VideoCapture(str(video_path))\n",
        "            frames = []\n",
        "            while cap.isOpened():\n",
        "                ret, frame = cap.read()\n",
        "                if not ret:\n",
        "                    break\n",
        "                frames.append(frame)\n",
        "            cap.release()\n",
        "\n",
        "            if not frames:\n",
        "                failed_videos.append((video_path, \"No frames could be read from video\"))\n",
        "                continue\n",
        "\n",
        "            # Calculate motion scores to find start and end\n",
        "            motion_scores = []\n",
        "            for i in range(1, len(frames)):\n",
        "                diff = cv2.absdiff(frames[i-1], frames[i])\n",
        "                motion_scores.append(np.mean(diff))\n",
        "\n",
        "            # Find meaningful motion\n",
        "            threshold = np.mean(motion_scores) * 0.3\n",
        "            start_idx = 0\n",
        "            end_idx = len(frames) - 1\n",
        "\n",
        "            # Find start of motion\n",
        "            for i, score in enumerate(motion_scores):\n",
        "                if score > threshold:\n",
        "                    start_idx = max(0, i - 5)\n",
        "                    break\n",
        "\n",
        "            # Find end of motion\n",
        "            for i in reversed(range(len(motion_scores))):\n",
        "                if motion_scores[i] > threshold:\n",
        "                    end_idx = min(len(frames), i + 5)\n",
        "                    break\n",
        "\n",
        "            # Trim frames\n",
        "            frames = frames[start_idx:end_idx]\n",
        "\n",
        "            # Standardize length\n",
        "            if len(frames) > 0:\n",
        "                indices = np.linspace(0, len(frames)-1, target_frames, dtype=int)\n",
        "                frames = [frames[i] for i in indices]\n",
        "\n",
        "                # Save processed video\n",
        "                height, width = frames[0].shape[:2]\n",
        "                out = cv2.VideoWriter(\n",
        "                    str(output_path),\n",
        "                    cv2.VideoWriter_fourcc(*'mp4v'),\n",
        "                    30,\n",
        "                    (width, height)\n",
        "                )\n",
        "\n",
        "                for frame in frames:\n",
        "                    out.write(frame)\n",
        "                out.release()\n",
        "\n",
        "                successful_videos.append(video_path)\n",
        "            else:\n",
        "                failed_videos.append((video_path, \"No frames remained after trimming\"))\n",
        "\n",
        "        except Exception as e:\n",
        "            failed_videos.append((video_path, str(e)))\n",
        "\n",
        "    # Print summary\n",
        "    print(\"\\nProcessing Summary:\")\n",
        "    print(f\"Total videos: {len(video_files)}\")\n",
        "    print(f\"Successfully processed: {len(successful_videos)}\")\n",
        "    print(f\"Failed: {len(failed_videos)}\")\n",
        "\n",
        "    if failed_videos:\n",
        "        print(\"\\nFailed Videos:\")\n",
        "        for path, error in failed_videos:\n",
        "            print(f\"\\nVideo: {path}\")\n",
        "            print(f\"Error: {error}\")\n",
        "\n",
        "        # Save failed videos list to a file in the output folder\n",
        "        log_path = output_folder / 'failed_videos_log.txt'\n",
        "        with open(log_path, 'w') as f:\n",
        "            f.write(\"Failed Videos Report\\n\")\n",
        "            f.write(\"==================\\n\\n\")\n",
        "            for path, error in failed_videos:\n",
        "                f.write(f\"Video: {path}\\n\")\n",
        "                f.write(f\"Error: {error}\\n\\n\")\n",
        "        print(f\"\\nDetailed error log saved to: {log_path}\")\n",
        "\n",
        "    return output_folder, failed_videos, successful_videos\n",
        "\n",
        "if __name__ == \"__main__\":\n",
        "    # Input folder containing the videos\n",
        "    PROJECT_FOLDER = '/content/drive/MyDrive/OMDENA/data_collected'\n",
        "    # Base folder where the processed videos will be saved\n",
        "    OUTPUT_BASE_FOLDER = '/content/drive/MyDrive/OMDENA'\n",
        "\n",
        "    processed_folder, failed_videos, successful_videos = process_sign_language_videos(\n",
        "        PROJECT_FOLDER,\n",
        "        OUTPUT_BASE_FOLDER\n",
        "    )"
      ]
    },
    {
      "cell_type": "markdown",
      "metadata": {
        "id": "SpOClY5gwkpb"
      },
      "source": [
        "# Enhancement:\n",
        "\n",
        "key points for the video enhancement step:\n",
        "Enhances processed videos by:\n",
        "\n",
        "\n",
        "*   Improves image quality using CLAHE (Contrast Limited Adaptive Histogram Equalization) on LAB color space\n",
        "*   Applies light sharpening with custom kernel matrix for detail enhancement\n",
        "*   Optional denoising for noise reduction (disabled by default for speed)\n",
        "*   Saves enhanced results in 'enhanced_videos_v2' using GPU acceleration and chunk processing\n"
      ]
    },
    {
      "cell_type": "code",
      "execution_count": 4,
      "metadata": {
        "colab": {
          "base_uri": "https://localhost:8080/"
        },
        "id": "9mRqCRzJoL38",
        "outputId": "6ab4169f-89e6-45e2-a104-1a460e165ba9"
      },
      "outputs": [
        {
          "output_type": "stream",
          "name": "stdout",
          "text": [
            "Using GPU: Tesla T4\n",
            "Found 267 videos to process\n"
          ]
        },
        {
          "output_type": "stream",
          "name": "stderr",
          "text": [
            "\rProcessing chunks:   0%|          | 0/54 [00:00<?, ?it/s]"
          ]
        },
        {
          "output_type": "stream",
          "name": "stdout",
          "text": [
            "\n",
            "Processing chunk 1/54 (5 videos)\n"
          ]
        },
        {
          "output_type": "stream",
          "name": "stderr",
          "text": [
            "\n",
            "Processing videos in chunk:   0%|          | 0/5 [00:00<?, ?it/s]\u001b[A\n",
            "Processing videos in chunk:  20%|██        | 1/5 [00:05<00:21,  5.39s/it]\u001b[A\n",
            "Processing videos in chunk:  40%|████      | 2/5 [00:12<00:18,  6.31s/it]\u001b[A\n",
            "Processing videos in chunk:  60%|██████    | 3/5 [00:15<00:10,  5.03s/it]\u001b[A\n",
            "Processing videos in chunk:  80%|████████  | 4/5 [00:26<00:07,  7.27s/it]\u001b[A\n",
            "Processing videos in chunk: 100%|██████████| 5/5 [00:30<00:00,  6.16s/it]\n",
            "Processing chunks:   2%|▏         | 1/54 [00:30<27:15, 30.85s/it]"
          ]
        },
        {
          "output_type": "stream",
          "name": "stdout",
          "text": [
            "\n",
            "Processing chunk 2/54 (5 videos)\n"
          ]
        },
        {
          "output_type": "stream",
          "name": "stderr",
          "text": [
            "\n",
            "Processing videos in chunk:   0%|          | 0/5 [00:00<?, ?it/s]\u001b[A\n",
            "Processing videos in chunk:  20%|██        | 1/5 [00:10<00:41, 10.47s/it]\u001b[A\n",
            "Processing videos in chunk:  40%|████      | 2/5 [00:14<00:20,  6.90s/it]\u001b[A\n",
            "Processing videos in chunk:  60%|██████    | 3/5 [00:26<00:17,  8.95s/it]\u001b[A\n",
            "Processing videos in chunk:  80%|████████  | 4/5 [00:33<00:08,  8.33s/it]\u001b[A\n",
            "Processing videos in chunk: 100%|██████████| 5/5 [00:38<00:00,  7.66s/it]\n",
            "Processing chunks:   4%|▎         | 2/54 [01:09<30:34, 35.29s/it]"
          ]
        },
        {
          "output_type": "stream",
          "name": "stdout",
          "text": [
            "\n",
            "Processing chunk 3/54 (5 videos)\n"
          ]
        },
        {
          "output_type": "stream",
          "name": "stderr",
          "text": [
            "\n",
            "Processing videos in chunk:   0%|          | 0/5 [00:00<?, ?it/s]\u001b[A\n",
            "Processing videos in chunk:  20%|██        | 1/5 [00:10<00:40, 10.17s/it]\u001b[A\n",
            "Processing videos in chunk:  40%|████      | 2/5 [00:19<00:28,  9.44s/it]\u001b[A\n",
            "Processing videos in chunk:  60%|██████    | 3/5 [00:29<00:19,  9.66s/it]\u001b[A\n",
            "Processing videos in chunk:  80%|████████  | 4/5 [00:31<00:06,  6.74s/it]\u001b[A\n",
            "Processing videos in chunk: 100%|██████████| 5/5 [00:41<00:00,  8.37s/it]\n",
            "Processing chunks:   6%|▌         | 3/54 [01:51<32:34, 38.31s/it]"
          ]
        },
        {
          "output_type": "stream",
          "name": "stdout",
          "text": [
            "\n",
            "Processing chunk 4/54 (5 videos)\n"
          ]
        },
        {
          "output_type": "stream",
          "name": "stderr",
          "text": [
            "\n",
            "Processing videos in chunk:   0%|          | 0/5 [00:00<?, ?it/s]\u001b[A\n",
            "Processing videos in chunk:  20%|██        | 1/5 [00:02<00:09,  2.44s/it]\u001b[A\n",
            "Processing videos in chunk:  40%|████      | 2/5 [00:04<00:07,  2.35s/it]\u001b[A\n",
            "Processing videos in chunk:  60%|██████    | 3/5 [00:10<00:07,  3.76s/it]\u001b[A\n",
            "Processing videos in chunk:  80%|████████  | 4/5 [00:14<00:03,  3.99s/it]\u001b[A\n",
            "Processing videos in chunk: 100%|██████████| 5/5 [00:24<00:00,  4.99s/it]\n",
            "Processing chunks:   7%|▋         | 4/54 [02:16<27:33, 33.07s/it]"
          ]
        },
        {
          "output_type": "stream",
          "name": "stdout",
          "text": [
            "\n",
            "Processing chunk 5/54 (5 videos)\n"
          ]
        },
        {
          "output_type": "stream",
          "name": "stderr",
          "text": [
            "\n",
            "Processing videos in chunk:   0%|          | 0/5 [00:00<?, ?it/s]\u001b[A\n",
            "Processing videos in chunk:  20%|██        | 1/5 [00:32<02:11, 32.86s/it]\u001b[A\n",
            "Processing videos in chunk:  40%|████      | 2/5 [00:35<00:44, 14.93s/it]\u001b[A\n",
            "Processing videos in chunk:  60%|██████    | 3/5 [00:44<00:24, 12.48s/it]\u001b[A\n",
            "Processing videos in chunk:  80%|████████  | 4/5 [00:46<00:08,  8.38s/it]\u001b[A\n",
            "Processing videos in chunk: 100%|██████████| 5/5 [00:50<00:00, 10.02s/it]\n",
            "Processing chunks:   9%|▉         | 5/54 [03:06<32:03, 39.26s/it]"
          ]
        },
        {
          "output_type": "stream",
          "name": "stdout",
          "text": [
            "\n",
            "Processing chunk 6/54 (5 videos)\n"
          ]
        },
        {
          "output_type": "stream",
          "name": "stderr",
          "text": [
            "\n",
            "Processing videos in chunk:   0%|          | 0/5 [00:00<?, ?it/s]\u001b[A\n",
            "Processing videos in chunk:  20%|██        | 1/5 [00:04<00:18,  4.61s/it]\u001b[A\n",
            "Processing videos in chunk:  40%|████      | 2/5 [00:08<00:13,  4.44s/it]\u001b[A\n",
            "Processing videos in chunk:  60%|██████    | 3/5 [00:14<00:10,  5.15s/it]\u001b[A\n",
            "Processing videos in chunk:  80%|████████  | 4/5 [00:17<00:04,  4.01s/it]\u001b[A\n",
            "Processing videos in chunk: 100%|██████████| 5/5 [00:26<00:00,  5.39s/it]\n",
            "Processing chunks:  11%|█         | 6/54 [03:33<28:05, 35.12s/it]"
          ]
        },
        {
          "output_type": "stream",
          "name": "stdout",
          "text": [
            "\n",
            "Processing chunk 7/54 (5 videos)\n"
          ]
        },
        {
          "output_type": "stream",
          "name": "stderr",
          "text": [
            "\n",
            "Processing videos in chunk:   0%|          | 0/5 [00:00<?, ?it/s]\u001b[A\n",
            "Processing videos in chunk:  20%|██        | 1/5 [00:04<00:18,  4.54s/it]\u001b[A\n",
            "Processing videos in chunk:  40%|████      | 2/5 [00:14<00:23,  7.87s/it]\u001b[A\n",
            "Processing videos in chunk:  60%|██████    | 3/5 [00:19<00:12,  6.25s/it]\u001b[A\n",
            "Processing videos in chunk:  80%|████████  | 4/5 [00:29<00:07,  7.87s/it]\u001b[A\n",
            "Processing videos in chunk: 100%|██████████| 5/5 [00:33<00:00,  6.73s/it]\n",
            "Processing chunks:  13%|█▎        | 7/54 [04:07<27:09, 34.67s/it]"
          ]
        },
        {
          "output_type": "stream",
          "name": "stdout",
          "text": [
            "\n",
            "Processing chunk 8/54 (5 videos)\n"
          ]
        },
        {
          "output_type": "stream",
          "name": "stderr",
          "text": [
            "\n",
            "Processing videos in chunk:   0%|          | 0/5 [00:00<?, ?it/s]\u001b[A\n",
            "Processing videos in chunk:  20%|██        | 1/5 [00:04<00:19,  4.83s/it]\u001b[A\n",
            "Processing videos in chunk:  40%|████      | 2/5 [00:14<00:22,  7.66s/it]\u001b[A\n",
            "Processing videos in chunk:  60%|██████    | 3/5 [00:24<00:17,  8.87s/it]\u001b[A\n",
            "Processing videos in chunk:  80%|████████  | 4/5 [00:34<00:09,  9.40s/it]\u001b[A\n",
            "Processing videos in chunk: 100%|██████████| 5/5 [00:37<00:00,  7.54s/it]\n",
            "Processing chunks:  15%|█▍        | 8/54 [04:45<27:20, 35.66s/it]"
          ]
        },
        {
          "output_type": "stream",
          "name": "stdout",
          "text": [
            "\n",
            "Processing chunk 9/54 (5 videos)\n"
          ]
        },
        {
          "output_type": "stream",
          "name": "stderr",
          "text": [
            "\n",
            "Processing videos in chunk:   0%|          | 0/5 [00:00<?, ?it/s]\u001b[A\n",
            "Processing videos in chunk:  20%|██        | 1/5 [00:10<00:40, 10.10s/it]\u001b[A\n",
            "Processing videos in chunk:  40%|████      | 2/5 [00:12<00:16,  5.47s/it]\u001b[A\n",
            "Processing videos in chunk:  60%|██████    | 3/5 [00:14<00:08,  4.03s/it]\u001b[A\n",
            "Processing videos in chunk:  80%|████████  | 4/5 [00:18<00:04,  4.09s/it]\u001b[A\n",
            "Processing videos in chunk: 100%|██████████| 5/5 [00:24<00:00,  4.94s/it]\n",
            "Processing chunks:  17%|█▋        | 9/54 [05:09<24:12, 32.27s/it]"
          ]
        },
        {
          "output_type": "stream",
          "name": "stdout",
          "text": [
            "\n",
            "Processing chunk 10/54 (5 videos)\n"
          ]
        },
        {
          "output_type": "stream",
          "name": "stderr",
          "text": [
            "\n",
            "Processing videos in chunk:   0%|          | 0/5 [00:00<?, ?it/s]\u001b[A\n",
            "Processing videos in chunk:  20%|██        | 1/5 [00:04<00:19,  4.80s/it]\u001b[A\n",
            "Processing videos in chunk:  40%|████      | 2/5 [00:15<00:23,  8.00s/it]\u001b[A\n",
            "Processing videos in chunk:  60%|██████    | 3/5 [00:51<00:41, 20.99s/it]\u001b[A\n",
            "Processing videos in chunk:  80%|████████  | 4/5 [00:54<00:13, 13.79s/it]\u001b[A\n",
            "Processing videos in chunk: 100%|██████████| 5/5 [01:03<00:00, 12.61s/it]\n",
            "Processing chunks:  19%|█▊        | 10/54 [06:12<30:39, 41.80s/it]"
          ]
        },
        {
          "output_type": "stream",
          "name": "stdout",
          "text": [
            "\n",
            "Processing chunk 11/54 (5 videos)\n"
          ]
        },
        {
          "output_type": "stream",
          "name": "stderr",
          "text": [
            "\n",
            "Processing videos in chunk:   0%|          | 0/5 [00:00<?, ?it/s]\u001b[A\n",
            "Processing videos in chunk:  20%|██        | 1/5 [00:02<00:11,  2.82s/it]\u001b[A\n",
            "Processing videos in chunk:  40%|████      | 2/5 [00:05<00:08,  2.67s/it]\u001b[A\n",
            "Processing videos in chunk:  60%|██████    | 3/5 [00:10<00:07,  3.58s/it]\u001b[A\n",
            "Processing videos in chunk:  80%|████████  | 4/5 [00:14<00:03,  3.92s/it]\u001b[A\n",
            "Processing videos in chunk: 100%|██████████| 5/5 [00:19<00:00,  3.98s/it]\n",
            "Processing chunks:  20%|██        | 11/54 [06:33<25:10, 35.14s/it]"
          ]
        },
        {
          "output_type": "stream",
          "name": "stdout",
          "text": [
            "\n",
            "Processing chunk 12/54 (5 videos)\n"
          ]
        },
        {
          "output_type": "stream",
          "name": "stderr",
          "text": [
            "\n",
            "Processing videos in chunk:   0%|          | 0/5 [00:00<?, ?it/s]\u001b[A\n",
            "Processing videos in chunk:  20%|██        | 1/5 [00:09<00:38,  9.58s/it]\u001b[A\n",
            "Processing videos in chunk:  40%|████      | 2/5 [00:18<00:27,  9.29s/it]\u001b[A\n",
            "Processing videos in chunk:  60%|██████    | 3/5 [00:28<00:19,  9.66s/it]\u001b[A\n",
            "Processing videos in chunk:  80%|████████  | 4/5 [00:31<00:06,  6.80s/it]\u001b[A\n",
            "Processing videos in chunk: 100%|██████████| 5/5 [00:41<00:00,  8.26s/it]\n",
            "Processing chunks:  22%|██▏       | 12/54 [07:14<25:55, 37.04s/it]"
          ]
        },
        {
          "output_type": "stream",
          "name": "stdout",
          "text": [
            "\n",
            "Processing chunk 13/54 (5 videos)\n"
          ]
        },
        {
          "output_type": "stream",
          "name": "stderr",
          "text": [
            "\n",
            "Processing videos in chunk:   0%|          | 0/5 [00:00<?, ?it/s]\u001b[A\n",
            "Processing videos in chunk:  20%|██        | 1/5 [00:02<00:11,  2.78s/it]\u001b[A\n",
            "Processing videos in chunk:  40%|████      | 2/5 [00:05<00:07,  2.57s/it]\u001b[A\n",
            "Processing videos in chunk:  60%|██████    | 3/5 [00:10<00:07,  3.96s/it]\u001b[A\n",
            "Processing videos in chunk:  80%|████████  | 4/5 [00:15<00:04,  4.08s/it]\u001b[A\n",
            "Processing videos in chunk: 100%|██████████| 5/5 [00:19<00:00,  3.94s/it]\n",
            "Processing chunks:  24%|██▍       | 13/54 [07:34<21:44, 31.81s/it]"
          ]
        },
        {
          "output_type": "stream",
          "name": "stdout",
          "text": [
            "\n",
            "Processing chunk 14/54 (5 videos)\n"
          ]
        },
        {
          "output_type": "stream",
          "name": "stderr",
          "text": [
            "\n",
            "Processing videos in chunk:   0%|          | 0/5 [00:00<?, ?it/s]\u001b[A\n",
            "Processing videos in chunk:  20%|██        | 1/5 [00:10<00:40, 10.23s/it]\u001b[A\n",
            "Processing videos in chunk:  40%|████      | 2/5 [00:42<01:08, 22.96s/it]\u001b[A\n",
            "Processing videos in chunk:  60%|██████    | 3/5 [00:45<00:27, 13.82s/it]\u001b[A\n",
            "Processing videos in chunk:  80%|████████  | 4/5 [00:53<00:11, 11.86s/it]\u001b[A\n",
            "Processing videos in chunk: 100%|██████████| 5/5 [00:56<00:00, 11.34s/it]\n",
            "Processing chunks:  26%|██▌       | 14/54 [08:30<26:14, 39.36s/it]"
          ]
        },
        {
          "output_type": "stream",
          "name": "stdout",
          "text": [
            "\n",
            "Processing chunk 15/54 (5 videos)\n"
          ]
        },
        {
          "output_type": "stream",
          "name": "stderr",
          "text": [
            "\n",
            "Processing videos in chunk:   0%|          | 0/5 [00:00<?, ?it/s]\u001b[A\n",
            "Processing videos in chunk:  20%|██        | 1/5 [00:02<00:10,  2.57s/it]\u001b[A\n",
            "Processing videos in chunk:  40%|████      | 2/5 [00:07<00:11,  3.68s/it]\u001b[A\n",
            "Processing videos in chunk:  60%|██████    | 3/5 [00:11<00:07,  3.90s/it]\u001b[A\n",
            "Processing videos in chunk:  80%|████████  | 4/5 [00:21<00:06,  6.29s/it]\u001b[A\n",
            "Processing videos in chunk: 100%|██████████| 5/5 [00:52<00:00, 10.57s/it]\n",
            "Processing chunks:  28%|██▊       | 15/54 [09:23<28:15, 43.46s/it]"
          ]
        },
        {
          "output_type": "stream",
          "name": "stdout",
          "text": [
            "\n",
            "Processing chunk 16/54 (5 videos)\n"
          ]
        },
        {
          "output_type": "stream",
          "name": "stderr",
          "text": [
            "\n",
            "Processing videos in chunk:   0%|          | 0/5 [00:00<?, ?it/s]\u001b[A\n",
            "Processing videos in chunk:  20%|██        | 1/5 [00:02<00:11,  2.82s/it]\u001b[A\n",
            "Processing videos in chunk:  40%|████      | 2/5 [00:11<00:19,  6.42s/it]\u001b[A\n",
            "Processing videos in chunk:  60%|██████    | 3/5 [00:14<00:09,  4.69s/it]\u001b[A\n",
            "Processing videos in chunk:  80%|████████  | 4/5 [00:16<00:03,  3.85s/it]\u001b[A\n",
            "Processing videos in chunk: 100%|██████████| 5/5 [00:21<00:00,  4.30s/it]\n",
            "Processing chunks:  30%|██▉       | 16/54 [09:45<23:21, 36.88s/it]"
          ]
        },
        {
          "output_type": "stream",
          "name": "stdout",
          "text": [
            "\n",
            "Processing chunk 17/54 (5 videos)\n"
          ]
        },
        {
          "output_type": "stream",
          "name": "stderr",
          "text": [
            "\n",
            "Processing videos in chunk:   0%|          | 0/5 [00:00<?, ?it/s]\u001b[A\n",
            "Processing videos in chunk:  20%|██        | 1/5 [00:04<00:17,  4.27s/it]\u001b[A\n",
            "Processing videos in chunk:  40%|████      | 2/5 [00:09<00:15,  5.07s/it]\u001b[A\n",
            "Processing videos in chunk:  60%|██████    | 3/5 [00:19<00:14,  7.12s/it]\u001b[A\n",
            "Processing videos in chunk:  80%|████████  | 4/5 [00:53<00:17, 17.75s/it]\u001b[A\n",
            "Processing videos in chunk: 100%|██████████| 5/5 [00:55<00:00, 11.10s/it]\n",
            "Processing chunks:  31%|███▏      | 17/54 [10:41<26:12, 42.50s/it]"
          ]
        },
        {
          "output_type": "stream",
          "name": "stdout",
          "text": [
            "\n",
            "Processing chunk 18/54 (5 videos)\n"
          ]
        },
        {
          "output_type": "stream",
          "name": "stderr",
          "text": [
            "\n",
            "Processing videos in chunk:   0%|          | 0/5 [00:00<?, ?it/s]\u001b[A\n",
            "Processing videos in chunk:  20%|██        | 1/5 [00:10<00:40, 10.08s/it]\u001b[A\n",
            "Processing videos in chunk:  40%|████      | 2/5 [00:12<00:16,  5.59s/it]\u001b[A\n",
            "Processing videos in chunk:  60%|██████    | 3/5 [00:14<00:08,  4.10s/it]\u001b[A\n",
            "Processing videos in chunk:  80%|████████  | 4/5 [00:20<00:04,  4.79s/it]\u001b[A\n",
            "Processing videos in chunk: 100%|██████████| 5/5 [00:25<00:00,  5.06s/it]\n",
            "Processing chunks:  33%|███▎      | 18/54 [11:06<22:25, 37.36s/it]"
          ]
        },
        {
          "output_type": "stream",
          "name": "stdout",
          "text": [
            "\n",
            "Processing chunk 19/54 (5 videos)\n"
          ]
        },
        {
          "output_type": "stream",
          "name": "stderr",
          "text": [
            "\n",
            "Processing videos in chunk:   0%|          | 0/5 [00:00<?, ?it/s]\u001b[A\n",
            "Processing videos in chunk:  20%|██        | 1/5 [00:10<00:40, 10.07s/it]\u001b[A\n",
            "Processing videos in chunk:  40%|████      | 2/5 [00:19<00:28,  9.58s/it]\u001b[A\n",
            "Processing videos in chunk:  60%|██████    | 3/5 [00:28<00:19,  9.55s/it]\u001b[A\n",
            "Processing videos in chunk:  80%|████████  | 4/5 [00:34<00:07,  7.83s/it]\u001b[A\n",
            "Processing videos in chunk: 100%|██████████| 5/5 [00:42<00:00,  8.59s/it]\n",
            "Processing chunks:  35%|███▌      | 19/54 [11:49<22:47, 39.07s/it]"
          ]
        },
        {
          "output_type": "stream",
          "name": "stdout",
          "text": [
            "\n",
            "Processing chunk 20/54 (5 videos)\n"
          ]
        },
        {
          "output_type": "stream",
          "name": "stderr",
          "text": [
            "\n",
            "Processing videos in chunk:   0%|          | 0/5 [00:00<?, ?it/s]\u001b[A\n",
            "Processing videos in chunk:  20%|██        | 1/5 [00:10<00:41, 10.40s/it]\u001b[A\n",
            "Processing videos in chunk:  40%|████      | 2/5 [00:12<00:17,  5.68s/it]\u001b[A\n",
            "Processing videos in chunk:  60%|██████    | 3/5 [00:15<00:08,  4.15s/it]\u001b[A\n",
            "Processing videos in chunk:  80%|████████  | 4/5 [00:20<00:04,  4.68s/it]\u001b[A\n",
            "Processing videos in chunk: 100%|██████████| 5/5 [00:25<00:00,  5.01s/it]\n",
            "Processing chunks:  37%|███▋      | 20/54 [12:14<19:46, 34.88s/it]"
          ]
        },
        {
          "output_type": "stream",
          "name": "stdout",
          "text": [
            "\n",
            "Processing chunk 21/54 (5 videos)\n"
          ]
        },
        {
          "output_type": "stream",
          "name": "stderr",
          "text": [
            "\n",
            "Processing videos in chunk:   0%|          | 0/5 [00:00<?, ?it/s]\u001b[A\n",
            "Processing videos in chunk:  20%|██        | 1/5 [00:05<00:21,  5.35s/it]\u001b[A\n",
            "Processing videos in chunk:  40%|████      | 2/5 [00:07<00:11,  3.73s/it]\u001b[A\n",
            "Processing videos in chunk:  60%|██████    | 3/5 [00:16<00:12,  6.14s/it]\u001b[A\n",
            "Processing videos in chunk:  80%|████████  | 4/5 [00:53<00:18, 18.17s/it]\u001b[A\n",
            "Processing videos in chunk: 100%|██████████| 5/5 [00:55<00:00, 11.12s/it]\n",
            "Processing chunks:  39%|███▉      | 21/54 [13:10<22:37, 41.13s/it]"
          ]
        },
        {
          "output_type": "stream",
          "name": "stdout",
          "text": [
            "\n",
            "Processing chunk 22/54 (5 videos)\n"
          ]
        },
        {
          "output_type": "stream",
          "name": "stderr",
          "text": [
            "\n",
            "Processing videos in chunk:   0%|          | 0/5 [00:00<?, ?it/s]\u001b[A\n",
            "Processing videos in chunk:  20%|██        | 1/5 [00:10<00:40, 10.16s/it]\u001b[A\n",
            "Processing videos in chunk:  40%|████      | 2/5 [00:12<00:16,  5.51s/it]\u001b[A\n",
            "Processing videos in chunk:  60%|██████    | 3/5 [00:14<00:07,  4.00s/it]\u001b[A\n",
            "Processing videos in chunk:  80%|████████  | 4/5 [00:20<00:04,  4.62s/it]\u001b[A\n",
            "Processing videos in chunk: 100%|██████████| 5/5 [00:24<00:00,  4.89s/it]\n",
            "Processing chunks:  41%|████      | 22/54 [13:34<19:16, 36.14s/it]"
          ]
        },
        {
          "output_type": "stream",
          "name": "stdout",
          "text": [
            "\n",
            "Processing chunk 23/54 (5 videos)\n"
          ]
        },
        {
          "output_type": "stream",
          "name": "stderr",
          "text": [
            "\n",
            "Processing videos in chunk:   0%|          | 0/5 [00:00<?, ?it/s]\u001b[A\n",
            "Processing videos in chunk:  20%|██        | 1/5 [00:05<00:23,  5.83s/it]\u001b[A\n",
            "Processing videos in chunk:  40%|████      | 2/5 [00:08<00:11,  3.85s/it]\u001b[A\n",
            "Processing videos in chunk:  60%|██████    | 3/5 [00:17<00:12,  6.26s/it]\u001b[A\n",
            "Processing videos in chunk:  80%|████████  | 4/5 [00:22<00:05,  5.65s/it]\u001b[A\n",
            "Processing videos in chunk: 100%|██████████| 5/5 [00:32<00:00,  6.42s/it]\n",
            "Processing chunks:  43%|████▎     | 23/54 [14:07<18:03, 34.96s/it]"
          ]
        },
        {
          "output_type": "stream",
          "name": "stdout",
          "text": [
            "\n",
            "Processing chunk 24/54 (5 videos)\n"
          ]
        },
        {
          "output_type": "stream",
          "name": "stderr",
          "text": [
            "\n",
            "Processing videos in chunk:   0%|          | 0/5 [00:00<?, ?it/s]\u001b[A\n",
            "Processing videos in chunk:  20%|██        | 1/5 [00:04<00:17,  4.38s/it]\u001b[A\n",
            "Processing videos in chunk:  40%|████      | 2/5 [00:14<00:23,  7.81s/it]\u001b[A\n",
            "Processing videos in chunk:  60%|██████    | 3/5 [00:18<00:12,  6.19s/it]\u001b[A\n",
            "Processing videos in chunk:  80%|████████  | 4/5 [00:23<00:05,  5.58s/it]\u001b[A\n",
            "Processing videos in chunk: 100%|██████████| 5/5 [00:33<00:00,  6.67s/it]\n",
            "Processing chunks:  44%|████▍     | 24/54 [14:40<17:16, 34.54s/it]"
          ]
        },
        {
          "output_type": "stream",
          "name": "stdout",
          "text": [
            "\n",
            "Processing chunk 25/54 (5 videos)\n"
          ]
        },
        {
          "output_type": "stream",
          "name": "stderr",
          "text": [
            "\n",
            "Processing videos in chunk:   0%|          | 0/5 [00:00<?, ?it/s]\u001b[A\n",
            "Processing videos in chunk:  20%|██        | 1/5 [00:37<02:28, 37.23s/it]\u001b[A\n",
            "Processing videos in chunk:  40%|████      | 2/5 [00:39<00:49, 16.51s/it]\u001b[A\n",
            "Processing videos in chunk:  60%|██████    | 3/5 [00:49<00:27, 13.64s/it]\u001b[A\n",
            "Processing videos in chunk:  80%|████████  | 4/5 [00:51<00:09,  9.13s/it]\u001b[A\n",
            "Processing videos in chunk: 100%|██████████| 5/5 [00:54<00:00, 10.80s/it]\n",
            "Processing chunks:  46%|████▋     | 25/54 [15:34<19:31, 40.41s/it]"
          ]
        },
        {
          "output_type": "stream",
          "name": "stdout",
          "text": [
            "\n",
            "Processing chunk 26/54 (5 videos)\n"
          ]
        },
        {
          "output_type": "stream",
          "name": "stderr",
          "text": [
            "\n",
            "Processing videos in chunk:   0%|          | 0/5 [00:00<?, ?it/s]\u001b[A\n",
            "Processing videos in chunk:  20%|██        | 1/5 [00:05<00:23,  5.79s/it]\u001b[A\n",
            "Processing videos in chunk:  40%|████      | 2/5 [00:10<00:14,  4.87s/it]\u001b[A\n",
            "Processing videos in chunk:  60%|██████    | 3/5 [00:14<00:09,  4.76s/it]\u001b[A\n",
            "Processing videos in chunk:  80%|████████  | 4/5 [00:24<00:06,  6.91s/it]\u001b[A\n",
            "Processing videos in chunk: 100%|██████████| 5/5 [01:02<00:00, 12.47s/it]\n",
            "Processing chunks:  48%|████▊     | 26/54 [16:37<21:56, 47.02s/it]"
          ]
        },
        {
          "output_type": "stream",
          "name": "stdout",
          "text": [
            "\n",
            "Processing chunk 27/54 (5 videos)\n"
          ]
        },
        {
          "output_type": "stream",
          "name": "stderr",
          "text": [
            "\n",
            "Processing videos in chunk:   0%|          | 0/5 [00:00<?, ?it/s]\u001b[A\n",
            "Processing videos in chunk:  20%|██        | 1/5 [00:02<00:08,  2.01s/it]\u001b[A\n",
            "Processing videos in chunk:  40%|████      | 2/5 [00:12<00:20,  6.77s/it]\u001b[A\n",
            "Processing videos in chunk:  60%|██████    | 3/5 [00:14<00:09,  4.73s/it]\u001b[A\n",
            "Processing videos in chunk:  80%|████████  | 4/5 [00:16<00:03,  3.76s/it]\u001b[A\n",
            "Processing videos in chunk: 100%|██████████| 5/5 [00:21<00:00,  4.34s/it]\n",
            "Processing chunks:  50%|█████     | 27/54 [16:59<17:45, 39.46s/it]"
          ]
        },
        {
          "output_type": "stream",
          "name": "stdout",
          "text": [
            "\n",
            "Processing chunk 28/54 (5 videos)\n"
          ]
        },
        {
          "output_type": "stream",
          "name": "stderr",
          "text": [
            "\n",
            "Processing videos in chunk:   0%|          | 0/5 [00:00<?, ?it/s]\u001b[A\n",
            "Processing videos in chunk:  20%|██        | 1/5 [00:04<00:19,  4.78s/it]\u001b[A\n",
            "Processing videos in chunk:  40%|████      | 2/5 [00:09<00:14,  4.70s/it]\u001b[A\n",
            "Processing videos in chunk:  60%|██████    | 3/5 [00:19<00:14,  7.14s/it]\u001b[A\n",
            "Processing videos in chunk:  80%|████████  | 4/5 [00:23<00:05,  5.96s/it]\u001b[A\n",
            "Processing videos in chunk: 100%|██████████| 5/5 [00:33<00:00,  6.75s/it]\n",
            "Processing chunks:  52%|█████▏    | 28/54 [17:32<16:21, 37.77s/it]"
          ]
        },
        {
          "output_type": "stream",
          "name": "stdout",
          "text": [
            "\n",
            "Processing chunk 29/54 (5 videos)\n"
          ]
        },
        {
          "output_type": "stream",
          "name": "stderr",
          "text": [
            "\n",
            "Processing videos in chunk:   0%|          | 0/5 [00:00<?, ?it/s]\u001b[A\n",
            "Processing videos in chunk:  20%|██        | 1/5 [00:04<00:16,  4.21s/it]\u001b[A\n",
            "Processing videos in chunk:  40%|████      | 2/5 [00:14<00:23,  7.77s/it]\u001b[A\n",
            "Processing videos in chunk:  60%|██████    | 3/5 [00:19<00:12,  6.44s/it]\u001b[A\n",
            "Processing videos in chunk:  80%|████████  | 4/5 [00:24<00:05,  5.99s/it]\u001b[A\n",
            "Processing videos in chunk: 100%|██████████| 5/5 [00:34<00:00,  6.92s/it]\n",
            "Processing chunks:  54%|█████▎    | 29/54 [18:07<15:21, 36.85s/it]"
          ]
        },
        {
          "output_type": "stream",
          "name": "stdout",
          "text": [
            "\n",
            "Processing chunk 30/54 (5 videos)\n"
          ]
        },
        {
          "output_type": "stream",
          "name": "stderr",
          "text": [
            "\n",
            "Processing videos in chunk:   0%|          | 0/5 [00:00<?, ?it/s]\u001b[A\n",
            "Processing videos in chunk:  20%|██        | 1/5 [00:09<00:36,  9.02s/it]\u001b[A\n",
            "Processing videos in chunk:  40%|████      | 2/5 [00:19<00:29,  9.70s/it]\u001b[A\n",
            "Processing videos in chunk:  60%|██████    | 3/5 [00:21<00:12,  6.48s/it]\u001b[A\n",
            "Processing videos in chunk:  80%|████████  | 4/5 [00:31<00:07,  7.93s/it]\u001b[A\n",
            "Processing videos in chunk: 100%|██████████| 5/5 [00:34<00:00,  6.88s/it]\n",
            "Processing chunks:  56%|█████▌    | 30/54 [18:42<14:27, 36.13s/it]"
          ]
        },
        {
          "output_type": "stream",
          "name": "stdout",
          "text": [
            "\n",
            "Processing chunk 31/54 (5 videos)\n"
          ]
        },
        {
          "output_type": "stream",
          "name": "stderr",
          "text": [
            "\n",
            "Processing videos in chunk:   0%|          | 0/5 [00:00<?, ?it/s]\u001b[A\n",
            "Processing videos in chunk:  20%|██        | 1/5 [00:02<00:10,  2.56s/it]\u001b[A\n",
            "Processing videos in chunk:  40%|████      | 2/5 [00:07<00:12,  4.08s/it]\u001b[A\n",
            "Processing videos in chunk:  60%|██████    | 3/5 [00:16<00:12,  6.44s/it]\u001b[A\n",
            "Processing videos in chunk:  80%|████████  | 4/5 [00:21<00:05,  5.83s/it]\u001b[A\n",
            "Processing videos in chunk: 100%|██████████| 5/5 [00:31<00:00,  6.37s/it]\n",
            "Processing chunks:  57%|█████▋    | 31/54 [19:13<13:22, 34.88s/it]"
          ]
        },
        {
          "output_type": "stream",
          "name": "stdout",
          "text": [
            "\n",
            "Processing chunk 32/54 (5 videos)\n"
          ]
        },
        {
          "output_type": "stream",
          "name": "stderr",
          "text": [
            "\n",
            "Processing videos in chunk:   0%|          | 0/5 [00:00<?, ?it/s]\u001b[A\n",
            "Processing videos in chunk:  20%|██        | 1/5 [00:08<00:35,  8.93s/it]\u001b[A\n",
            "Processing videos in chunk:  40%|████      | 2/5 [00:18<00:28,  9.56s/it]\u001b[A\n",
            "Processing videos in chunk:  60%|██████    | 3/5 [00:21<00:12,  6.19s/it]\u001b[A\n",
            "Processing videos in chunk:  80%|████████  | 4/5 [00:30<00:07,  7.64s/it]\u001b[A\n",
            "Processing videos in chunk: 100%|██████████| 5/5 [00:33<00:00,  6.64s/it]\n",
            "Processing chunks:  59%|█████▉    | 32/54 [19:47<12:36, 34.39s/it]"
          ]
        },
        {
          "output_type": "stream",
          "name": "stdout",
          "text": [
            "\n",
            "Processing chunk 33/54 (5 videos)\n"
          ]
        },
        {
          "output_type": "stream",
          "name": "stderr",
          "text": [
            "\n",
            "Processing videos in chunk:   0%|          | 0/5 [00:00<?, ?it/s]\u001b[A\n",
            "Processing videos in chunk:  20%|██        | 1/5 [00:02<00:08,  2.18s/it]\u001b[A\n",
            "Processing videos in chunk:  40%|████      | 2/5 [00:07<00:12,  4.13s/it]\u001b[A\n",
            "Processing videos in chunk:  60%|██████    | 3/5 [00:11<00:08,  4.21s/it]\u001b[A\n",
            "Processing videos in chunk:  80%|████████  | 4/5 [00:16<00:04,  4.43s/it]\u001b[A\n",
            "Processing videos in chunk: 100%|██████████| 5/5 [00:20<00:00,  4.03s/it]\n",
            "Processing chunks:  61%|██████    | 33/54 [20:07<10:33, 30.16s/it]"
          ]
        },
        {
          "output_type": "stream",
          "name": "stdout",
          "text": [
            "\n",
            "Processing chunk 34/54 (5 videos)\n"
          ]
        },
        {
          "output_type": "stream",
          "name": "stderr",
          "text": [
            "\n",
            "Processing videos in chunk:   0%|          | 0/5 [00:00<?, ?it/s]\u001b[A\n",
            "Processing videos in chunk:  20%|██        | 1/5 [00:08<00:34,  8.63s/it]\u001b[A\n",
            "Processing videos in chunk:  40%|████      | 2/5 [00:14<00:20,  6.76s/it]\u001b[A\n",
            "Processing videos in chunk:  60%|██████    | 3/5 [00:23<00:15,  7.85s/it]\u001b[A\n",
            "Processing videos in chunk:  80%|████████  | 4/5 [00:28<00:06,  6.98s/it]\u001b[A\n",
            "Processing videos in chunk: 100%|██████████| 5/5 [00:38<00:00,  7.76s/it]\n",
            "Processing chunks:  63%|██████▎   | 34/54 [20:46<10:55, 32.78s/it]"
          ]
        },
        {
          "output_type": "stream",
          "name": "stdout",
          "text": [
            "\n",
            "Processing chunk 35/54 (5 videos)\n"
          ]
        },
        {
          "output_type": "stream",
          "name": "stderr",
          "text": [
            "\n",
            "Processing videos in chunk:   0%|          | 0/5 [00:00<?, ?it/s]\u001b[A\n",
            "Processing videos in chunk:  20%|██        | 1/5 [00:04<00:17,  4.31s/it]\u001b[A\n",
            "Processing videos in chunk:  40%|████      | 2/5 [00:08<00:13,  4.51s/it]\u001b[A\n",
            "Processing videos in chunk:  60%|██████    | 3/5 [00:11<00:07,  3.63s/it]\u001b[A\n",
            "Processing videos in chunk:  80%|████████  | 4/5 [00:20<00:05,  5.91s/it]\u001b[A\n",
            "Processing videos in chunk: 100%|██████████| 5/5 [00:26<00:00,  5.22s/it]\n",
            "Processing chunks:  65%|██████▍   | 35/54 [21:12<09:45, 30.81s/it]"
          ]
        },
        {
          "output_type": "stream",
          "name": "stdout",
          "text": [
            "\n",
            "Processing chunk 36/54 (5 videos)\n"
          ]
        },
        {
          "output_type": "stream",
          "name": "stderr",
          "text": [
            "\n",
            "Processing videos in chunk:   0%|          | 0/5 [00:00<?, ?it/s]\u001b[A\n",
            "Processing videos in chunk:  20%|██        | 1/5 [00:09<00:36,  9.09s/it]\u001b[A\n",
            "Processing videos in chunk:  40%|████      | 2/5 [00:14<00:21,  7.14s/it]\u001b[A\n",
            "Processing videos in chunk:  60%|██████    | 3/5 [00:24<00:16,  8.11s/it]\u001b[A\n",
            "Processing videos in chunk:  80%|████████  | 4/5 [00:29<00:06,  6.92s/it]\u001b[A\n",
            "Processing videos in chunk: 100%|██████████| 5/5 [00:33<00:00,  6.76s/it]\n",
            "Processing chunks:  67%|██████▋   | 36/54 [21:46<09:31, 31.74s/it]"
          ]
        },
        {
          "output_type": "stream",
          "name": "stdout",
          "text": [
            "\n",
            "Processing chunk 37/54 (5 videos)\n"
          ]
        },
        {
          "output_type": "stream",
          "name": "stderr",
          "text": [
            "\n",
            "Processing videos in chunk:   0%|          | 0/5 [00:00<?, ?it/s]\u001b[A\n",
            "Processing videos in chunk:  20%|██        | 1/5 [00:09<00:39,  9.99s/it]\u001b[A\n",
            "Processing videos in chunk:  40%|████      | 2/5 [00:20<00:30, 10.01s/it]\u001b[A\n",
            "Processing videos in chunk:  60%|██████    | 3/5 [00:28<00:18,  9.47s/it]\u001b[A\n",
            "Processing videos in chunk:  80%|████████  | 4/5 [00:31<00:06,  6.95s/it]\u001b[A\n",
            "Processing videos in chunk: 100%|██████████| 5/5 [00:40<00:00,  8.15s/it]\n",
            "Processing chunks:  69%|██████▊   | 37/54 [22:27<09:45, 34.47s/it]"
          ]
        },
        {
          "output_type": "stream",
          "name": "stdout",
          "text": [
            "\n",
            "Processing chunk 38/54 (5 videos)\n"
          ]
        },
        {
          "output_type": "stream",
          "name": "stderr",
          "text": [
            "\n",
            "Processing videos in chunk:   0%|          | 0/5 [00:00<?, ?it/s]\u001b[A\n",
            "Processing videos in chunk:  20%|██        | 1/5 [00:02<00:09,  2.31s/it]\u001b[A\n",
            "Processing videos in chunk:  40%|████      | 2/5 [00:05<00:08,  2.78s/it]\u001b[A\n",
            "Processing videos in chunk:  60%|██████    | 3/5 [00:09<00:06,  3.46s/it]\u001b[A\n",
            "Processing videos in chunk:  80%|████████  | 4/5 [00:14<00:03,  3.84s/it]\u001b[A\n",
            "Processing videos in chunk: 100%|██████████| 5/5 [00:19<00:00,  3.97s/it]\n",
            "Processing chunks:  70%|███████   | 38/54 [22:47<08:01, 30.11s/it]"
          ]
        },
        {
          "output_type": "stream",
          "name": "stdout",
          "text": [
            "\n",
            "Processing chunk 39/54 (5 videos)\n"
          ]
        },
        {
          "output_type": "stream",
          "name": "stderr",
          "text": [
            "\n",
            "Processing videos in chunk:   0%|          | 0/5 [00:00<?, ?it/s]\u001b[A\n",
            "Processing videos in chunk:  20%|██        | 1/5 [00:02<00:09,  2.33s/it]\u001b[A\n",
            "Processing videos in chunk:  40%|████      | 2/5 [00:12<00:20,  6.84s/it]\u001b[A\n",
            "Processing videos in chunk:  60%|██████    | 3/5 [00:16<00:11,  5.63s/it]\u001b[A\n",
            "Processing videos in chunk:  80%|████████  | 4/5 [00:26<00:07,  7.41s/it]\u001b[A\n",
            "Processing videos in chunk: 100%|██████████| 5/5 [00:30<00:00,  6.16s/it]\n",
            "Processing chunks:  72%|███████▏  | 39/54 [23:18<07:35, 30.34s/it]"
          ]
        },
        {
          "output_type": "stream",
          "name": "stdout",
          "text": [
            "\n",
            "Processing chunk 40/54 (5 videos)\n"
          ]
        },
        {
          "output_type": "stream",
          "name": "stderr",
          "text": [
            "\n",
            "Processing videos in chunk:   0%|          | 0/5 [00:00<?, ?it/s]\u001b[A\n",
            "Processing videos in chunk:  20%|██        | 1/5 [00:10<00:40, 10.19s/it]\u001b[A\n",
            "Processing videos in chunk:  40%|████      | 2/5 [00:14<00:20,  6.70s/it]\u001b[A\n",
            "Processing videos in chunk:  60%|██████    | 3/5 [00:19<00:12,  6.11s/it]\u001b[A\n",
            "Processing videos in chunk:  80%|████████  | 4/5 [00:28<00:07,  7.29s/it]\u001b[A\n",
            "Processing videos in chunk: 100%|██████████| 5/5 [01:05<00:00, 13.20s/it]\n",
            "Processing chunks:  74%|███████▍  | 40/54 [24:24<09:34, 41.06s/it]"
          ]
        },
        {
          "output_type": "stream",
          "name": "stdout",
          "text": [
            "\n",
            "Processing chunk 41/54 (5 videos)\n"
          ]
        },
        {
          "output_type": "stream",
          "name": "stderr",
          "text": [
            "\n",
            "Processing videos in chunk:   0%|          | 0/5 [00:00<?, ?it/s]\u001b[A\n",
            "Processing videos in chunk:  20%|██        | 1/5 [00:02<00:08,  2.04s/it]\u001b[A\n",
            "Processing videos in chunk:  40%|████      | 2/5 [00:12<00:20,  6.93s/it]\u001b[A\n",
            "Processing videos in chunk:  60%|██████    | 3/5 [00:14<00:09,  4.85s/it]\u001b[A\n",
            "Processing videos in chunk:  80%|████████  | 4/5 [00:16<00:03,  3.80s/it]\u001b[A\n",
            "Processing videos in chunk: 100%|██████████| 5/5 [00:22<00:00,  4.53s/it]\n",
            "Processing chunks:  76%|███████▌  | 41/54 [24:47<07:42, 35.57s/it]"
          ]
        },
        {
          "output_type": "stream",
          "name": "stdout",
          "text": [
            "\n",
            "Processing chunk 42/54 (5 videos)\n"
          ]
        },
        {
          "output_type": "stream",
          "name": "stderr",
          "text": [
            "\n",
            "Processing videos in chunk:   0%|          | 0/5 [00:00<?, ?it/s]\u001b[A\n",
            "Processing videos in chunk:  20%|██        | 1/5 [00:04<00:17,  4.31s/it]\u001b[A\n",
            "Processing videos in chunk:  40%|████      | 2/5 [00:09<00:13,  4.65s/it]\u001b[A\n",
            "Processing videos in chunk:  60%|██████    | 3/5 [00:19<00:14,  7.06s/it]\u001b[A\n",
            "Processing videos in chunk:  80%|████████  | 4/5 [00:29<00:08,  8.39s/it]\u001b[A\n",
            "Processing videos in chunk: 100%|██████████| 5/5 [00:38<00:00,  7.78s/it]\n",
            "Processing chunks:  78%|███████▊  | 42/54 [25:26<07:19, 36.61s/it]"
          ]
        },
        {
          "output_type": "stream",
          "name": "stdout",
          "text": [
            "\n",
            "Processing chunk 43/54 (5 videos)\n"
          ]
        },
        {
          "output_type": "stream",
          "name": "stderr",
          "text": [
            "\n",
            "Processing videos in chunk:   0%|          | 0/5 [00:00<?, ?it/s]\u001b[A\n",
            "Processing videos in chunk:  20%|██        | 1/5 [00:02<00:09,  2.45s/it]\u001b[A\n",
            "Processing videos in chunk:  40%|████      | 2/5 [00:04<00:07,  2.37s/it]\u001b[A\n",
            "Processing videos in chunk:  60%|██████    | 3/5 [00:14<00:11,  5.79s/it]\u001b[A\n",
            "Processing videos in chunk:  80%|████████  | 4/5 [00:16<00:04,  4.43s/it]\u001b[A\n",
            "Processing videos in chunk: 100%|██████████| 5/5 [00:21<00:00,  4.29s/it]\n",
            "Processing chunks:  80%|███████▉  | 43/54 [25:47<05:52, 32.08s/it]"
          ]
        },
        {
          "output_type": "stream",
          "name": "stdout",
          "text": [
            "\n",
            "Processing chunk 44/54 (5 videos)\n"
          ]
        },
        {
          "output_type": "stream",
          "name": "stderr",
          "text": [
            "\n",
            "Processing videos in chunk:   0%|          | 0/5 [00:00<?, ?it/s]\u001b[A\n",
            "Processing videos in chunk:  20%|██        | 1/5 [00:05<00:21,  5.34s/it]\u001b[A\n",
            "Processing videos in chunk:  40%|████      | 2/5 [00:09<00:14,  4.94s/it]\u001b[A\n",
            "Processing videos in chunk:  60%|██████    | 3/5 [00:12<00:07,  3.68s/it]\u001b[A\n",
            "Processing videos in chunk:  80%|████████  | 4/5 [00:22<00:06,  6.15s/it]\u001b[A\n",
            "Processing videos in chunk: 100%|██████████| 5/5 [00:26<00:00,  5.28s/it]\n",
            "Processing chunks:  81%|████████▏ | 44/54 [26:14<05:04, 30.41s/it]"
          ]
        },
        {
          "output_type": "stream",
          "name": "stdout",
          "text": [
            "\n",
            "Processing chunk 45/54 (5 videos)\n"
          ]
        },
        {
          "output_type": "stream",
          "name": "stderr",
          "text": [
            "\n",
            "Processing videos in chunk:   0%|          | 0/5 [00:00<?, ?it/s]\u001b[A\n",
            "Processing videos in chunk:  20%|██        | 1/5 [00:10<00:40, 10.09s/it]\u001b[A\n",
            "Processing videos in chunk:  40%|████      | 2/5 [00:14<00:20,  6.76s/it]\u001b[A\n",
            "Processing videos in chunk:  60%|██████    | 3/5 [00:24<00:16,  8.27s/it]\u001b[A\n",
            "Processing videos in chunk:  80%|████████  | 4/5 [00:28<00:06,  6.67s/it]\u001b[A\n",
            "Processing videos in chunk: 100%|██████████| 5/5 [00:34<00:00,  6.91s/it]\n",
            "Processing chunks:  83%|████████▎ | 45/54 [26:48<04:45, 31.68s/it]"
          ]
        },
        {
          "output_type": "stream",
          "name": "stdout",
          "text": [
            "\n",
            "Processing chunk 46/54 (5 videos)\n"
          ]
        },
        {
          "output_type": "stream",
          "name": "stderr",
          "text": [
            "\n",
            "Processing videos in chunk:   0%|          | 0/5 [00:00<?, ?it/s]\u001b[A\n",
            "Processing videos in chunk:  20%|██        | 1/5 [00:02<00:09,  2.28s/it]\u001b[A\n",
            "Processing videos in chunk:  40%|████      | 2/5 [00:06<00:10,  3.45s/it]\u001b[A\n",
            "Processing videos in chunk:  60%|██████    | 3/5 [00:16<00:12,  6.48s/it]\u001b[A\n",
            "Processing videos in chunk:  80%|████████  | 4/5 [00:21<00:05,  5.65s/it]\u001b[A\n",
            "Processing videos in chunk: 100%|██████████| 5/5 [00:31<00:00,  6.28s/it]\n",
            "Processing chunks:  85%|████████▌ | 46/54 [27:20<04:12, 31.62s/it]"
          ]
        },
        {
          "output_type": "stream",
          "name": "stdout",
          "text": [
            "\n",
            "Processing chunk 47/54 (5 videos)\n"
          ]
        },
        {
          "output_type": "stream",
          "name": "stderr",
          "text": [
            "\n",
            "Processing videos in chunk:   0%|          | 0/5 [00:00<?, ?it/s]\u001b[A\n",
            "Processing videos in chunk:  20%|██        | 1/5 [00:04<00:18,  4.52s/it]\u001b[A\n",
            "Processing videos in chunk:  40%|████      | 2/5 [00:09<00:14,  4.98s/it]\u001b[A\n",
            "Processing videos in chunk:  60%|██████    | 3/5 [00:12<00:07,  3.71s/it]\u001b[A\n",
            "Processing videos in chunk:  80%|████████  | 4/5 [00:22<00:06,  6.19s/it]\u001b[A\n",
            "Processing videos in chunk: 100%|██████████| 5/5 [00:26<00:00,  5.27s/it]\n",
            "Processing chunks:  87%|████████▋ | 47/54 [27:46<03:30, 30.06s/it]"
          ]
        },
        {
          "output_type": "stream",
          "name": "stdout",
          "text": [
            "\n",
            "Processing chunk 48/54 (5 videos)\n"
          ]
        },
        {
          "output_type": "stream",
          "name": "stderr",
          "text": [
            "\n",
            "Processing videos in chunk:   0%|          | 0/5 [00:00<?, ?it/s]\u001b[A\n",
            "Processing videos in chunk:  20%|██        | 1/5 [00:10<00:41, 10.46s/it]\u001b[A\n",
            "Processing videos in chunk:  40%|████      | 2/5 [00:14<00:20,  6.92s/it]\u001b[A\n",
            "Processing videos in chunk:  60%|██████    | 3/5 [00:25<00:16,  8.44s/it]\u001b[A\n",
            "Processing videos in chunk:  80%|████████  | 4/5 [00:29<00:06,  6.78s/it]\u001b[A\n",
            "Processing videos in chunk: 100%|██████████| 5/5 [00:35<00:00,  7.05s/it]\n",
            "Processing chunks:  89%|████████▉ | 48/54 [28:21<03:09, 31.65s/it]"
          ]
        },
        {
          "output_type": "stream",
          "name": "stdout",
          "text": [
            "\n",
            "Processing chunk 49/54 (5 videos)\n"
          ]
        },
        {
          "output_type": "stream",
          "name": "stderr",
          "text": [
            "\n",
            "Processing videos in chunk:   0%|          | 0/5 [00:00<?, ?it/s]\u001b[A\n",
            "Processing videos in chunk:  20%|██        | 1/5 [00:08<00:34,  8.51s/it]\u001b[A\n",
            "Processing videos in chunk:  40%|████      | 2/5 [00:18<00:28,  9.34s/it]\u001b[A\n",
            "Processing videos in chunk:  60%|██████    | 3/5 [00:28<00:19,  9.73s/it]\u001b[A\n",
            "Processing videos in chunk:  80%|████████  | 4/5 [00:30<00:06,  6.77s/it]\u001b[A\n",
            "Processing videos in chunk: 100%|██████████| 5/5 [00:40<00:00,  8.20s/it]\n",
            "Processing chunks:  91%|█████████ | 49/54 [29:03<02:52, 34.47s/it]"
          ]
        },
        {
          "output_type": "stream",
          "name": "stdout",
          "text": [
            "\n",
            "Processing chunk 50/54 (5 videos)\n"
          ]
        },
        {
          "output_type": "stream",
          "name": "stderr",
          "text": [
            "\n",
            "Processing videos in chunk:   0%|          | 0/5 [00:00<?, ?it/s]\u001b[A\n",
            "Processing videos in chunk:  20%|██        | 1/5 [00:02<00:09,  2.48s/it]\u001b[A\n",
            "Processing videos in chunk:  40%|████      | 2/5 [00:04<00:06,  2.33s/it]\u001b[A\n",
            "Processing videos in chunk:  60%|██████    | 3/5 [00:09<00:06,  3.48s/it]\u001b[A\n",
            "Processing videos in chunk:  80%|████████  | 4/5 [00:14<00:03,  3.93s/it]\u001b[A\n",
            "Processing videos in chunk: 100%|██████████| 5/5 [00:18<00:00,  3.78s/it]\n",
            "Processing chunks:  93%|█████████▎| 50/54 [29:22<01:59, 29.83s/it]"
          ]
        },
        {
          "output_type": "stream",
          "name": "stdout",
          "text": [
            "\n",
            "Processing chunk 51/54 (5 videos)\n"
          ]
        },
        {
          "output_type": "stream",
          "name": "stderr",
          "text": [
            "\n",
            "Processing videos in chunk:   0%|          | 0/5 [00:00<?, ?it/s]\u001b[A\n",
            "Processing videos in chunk:  20%|██        | 1/5 [00:10<00:40, 10.09s/it]\u001b[A\n",
            "Processing videos in chunk:  40%|████      | 2/5 [00:47<01:18, 26.15s/it]\u001b[A\n",
            "Processing videos in chunk:  60%|██████    | 3/5 [00:49<00:30, 15.12s/it]\u001b[A\n",
            "Processing videos in chunk:  80%|████████  | 4/5 [00:59<00:13, 13.01s/it]\u001b[A\n",
            "Processing videos in chunk: 100%|██████████| 5/5 [01:01<00:00, 12.31s/it]\n",
            "Processing chunks:  94%|█████████▍| 51/54 [30:23<01:58, 39.37s/it]"
          ]
        },
        {
          "output_type": "stream",
          "name": "stdout",
          "text": [
            "\n",
            "Processing chunk 52/54 (5 videos)\n"
          ]
        },
        {
          "output_type": "stream",
          "name": "stderr",
          "text": [
            "\n",
            "Processing videos in chunk:   0%|          | 0/5 [00:00<?, ?it/s]\u001b[A\n",
            "Processing videos in chunk:  20%|██        | 1/5 [00:02<00:08,  2.21s/it]\u001b[A\n",
            "Processing videos in chunk:  40%|████      | 2/5 [00:06<00:10,  3.51s/it]\u001b[A\n",
            "Processing videos in chunk:  60%|██████    | 3/5 [00:17<00:13,  6.68s/it]\u001b[A\n",
            "Processing videos in chunk:  80%|████████  | 4/5 [00:22<00:06,  6.01s/it]\u001b[A\n",
            "Processing videos in chunk: 100%|██████████| 5/5 [00:31<00:00,  6.25s/it]\n",
            "Processing chunks:  96%|█████████▋| 52/54 [30:55<01:13, 36.96s/it]"
          ]
        },
        {
          "output_type": "stream",
          "name": "stdout",
          "text": [
            "\n",
            "Processing chunk 53/54 (5 videos)\n"
          ]
        },
        {
          "output_type": "stream",
          "name": "stderr",
          "text": [
            "\n",
            "Processing videos in chunk:   0%|          | 0/5 [00:00<?, ?it/s]\u001b[A\n",
            "Processing videos in chunk:  20%|██        | 1/5 [00:10<00:41, 10.42s/it]\u001b[A\n",
            "Processing videos in chunk:  40%|████      | 2/5 [00:20<00:30, 10.29s/it]\u001b[A\n",
            "Processing videos in chunk:  60%|██████    | 3/5 [00:22<00:13,  6.63s/it]\u001b[A\n",
            "Processing videos in chunk:  80%|████████  | 4/5 [00:33<00:08,  8.02s/it]\u001b[A\n",
            "Processing videos in chunk: 100%|██████████| 5/5 [00:35<00:00,  7.06s/it]\n",
            "Processing chunks:  98%|█████████▊| 53/54 [31:30<00:36, 36.48s/it]"
          ]
        },
        {
          "output_type": "stream",
          "name": "stdout",
          "text": [
            "\n",
            "Processing chunk 54/54 (2 videos)\n"
          ]
        },
        {
          "output_type": "stream",
          "name": "stderr",
          "text": [
            "\n",
            "Processing videos in chunk:   0%|          | 0/2 [00:00<?, ?it/s]\u001b[A\n",
            "Processing videos in chunk:  50%|█████     | 1/2 [00:02<00:02,  2.26s/it]\u001b[A\n",
            "Processing videos in chunk: 100%|██████████| 2/2 [00:06<00:00,  3.32s/it]\n",
            "Processing chunks: 100%|██████████| 54/54 [31:37<00:00, 35.13s/it]"
          ]
        },
        {
          "output_type": "stream",
          "name": "stdout",
          "text": [
            "\n",
            "Processing Complete!\n",
            "Total videos processed: 267\n",
            "Successfully processed: 267\n",
            "Failed: 0\n"
          ]
        },
        {
          "output_type": "stream",
          "name": "stderr",
          "text": [
            "\n"
          ]
        }
      ],
      "source": [
        "import cv2\n",
        "import numpy as np\n",
        "from pathlib import Path\n",
        "from tqdm import tqdm\n",
        "import torch\n",
        "import gc\n",
        "import os\n",
        "\n",
        "def enhance_frame(frame, apply_denoise=False):\n",
        "    \"\"\"Helper function to enhance a single frame\"\"\"\n",
        "    try:\n",
        "        # Convert to LAB color space\n",
        "        lab = cv2.cvtColor(frame, cv2.COLOR_BGR2LAB)\n",
        "        l, a, b = cv2.split(lab)\n",
        "\n",
        "        # Apply CLAHE to L channel\n",
        "        clahe = cv2.createCLAHE(clipLimit=2.0, tileGridSize=(8,8))\n",
        "        cl = clahe.apply(l)\n",
        "\n",
        "        # Merge channels\n",
        "        enhanced_lab = cv2.merge((cl,a,b))\n",
        "\n",
        "        # Convert back to BGR\n",
        "        enhanced_bgr = cv2.cvtColor(enhanced_lab, cv2.COLOR_LAB2BGR)\n",
        "\n",
        "        # Optional denoising (disabled by default to improve speed)\n",
        "        if apply_denoise:\n",
        "            enhanced_bgr = cv2.fastNlMeansDenoisingColored(enhanced_bgr, None, 5, 5, 3, 11)\n",
        "\n",
        "        # Light sharpening\n",
        "        kernel = np.array([[-0.5,-0.5,-0.5],\n",
        "                         [-0.5, 5,-0.5],\n",
        "                         [-0.5,-0.5,-0.5]])\n",
        "        sharpened = cv2.filter2D(enhanced_bgr, -1, kernel)\n",
        "\n",
        "        return sharpened\n",
        "\n",
        "    except Exception as e:\n",
        "        print(f\"Error enhancing frame: {e}\")\n",
        "        return frame\n",
        "\n",
        "def process_video_chunk(args):\n",
        "    \"\"\"Process a chunk of videos to allow for better memory management\"\"\"\n",
        "    video_paths, processed_folder, output_base_folder, start_idx = args\n",
        "    failed_videos = []\n",
        "    successful_videos = []\n",
        "\n",
        "    enhanced_folder = Path(output_base_folder) / 'enhanced_videos_v2'\n",
        "\n",
        "    for video_path in tqdm(video_paths, desc=\"Processing videos in chunk\"):\n",
        "        try:\n",
        "            # Create output path preserving folder structure\n",
        "            relative_path = video_path.relative_to(processed_folder)\n",
        "            output_path = enhanced_folder / relative_path\n",
        "            output_path.parent.mkdir(parents=True, exist_ok=True)\n",
        "\n",
        "            # Read video\n",
        "            cap = cv2.VideoCapture(str(video_path))\n",
        "\n",
        "            if not cap.isOpened():\n",
        "                raise Exception(\"Could not open video file\")\n",
        "\n",
        "            # Get video properties\n",
        "            width = int(cap.get(cv2.CAP_PROP_FRAME_WIDTH))\n",
        "            height = int(cap.get(cv2.CAP_PROP_FRAME_HEIGHT))\n",
        "            fps = int(cap.get(cv2.CAP_PROP_FPS))\n",
        "            total_frames = int(cap.get(cv2.CAP_PROP_FRAME_COUNT))\n",
        "\n",
        "            # Create video writer\n",
        "            fourcc = cv2.VideoWriter_fourcc(*'mp4v')\n",
        "            out = cv2.VideoWriter(\n",
        "                str(output_path),\n",
        "                fourcc,\n",
        "                fps,\n",
        "                (width, height)\n",
        "            )\n",
        "\n",
        "            # Process each frame with progress bar\n",
        "            for _ in range(total_frames):\n",
        "                ret, frame = cap.read()\n",
        "                if not ret:\n",
        "                    break\n",
        "\n",
        "                # Enhance frame (denoise disabled for speed)\n",
        "                enhanced_frame = enhance_frame(frame, apply_denoise=False)\n",
        "\n",
        "                # Write enhanced frame\n",
        "                out.write(enhanced_frame)\n",
        "\n",
        "            # Release resources\n",
        "            cap.release()\n",
        "            out.release()\n",
        "\n",
        "            successful_videos.append(video_path)\n",
        "\n",
        "        except Exception as e:\n",
        "            failed_videos.append((video_path, str(e)))\n",
        "\n",
        "        # Clear GPU memory after each video\n",
        "        if torch.cuda.is_available():\n",
        "            torch.cuda.empty_cache()\n",
        "        gc.collect()\n",
        "\n",
        "    return failed_videos, successful_videos\n",
        "\n",
        "def enhance_videos_with_gpu(processed_folder, output_base_folder, chunk_size=5):\n",
        "    \"\"\"\n",
        "    Enhanced version with GPU optimization and chunking\n",
        "    \"\"\"\n",
        "    processed_folder = Path(processed_folder)\n",
        "    output_base_folder = Path(output_base_folder)\n",
        "    enhanced_folder = output_base_folder / 'enhanced_videos_v2'\n",
        "    enhanced_folder.mkdir(exist_ok=True)\n",
        "\n",
        "    # Get all video files\n",
        "    video_files = list(processed_folder.rglob('*.mp4'))\n",
        "    total_videos = len(video_files)\n",
        "    print(f\"Found {total_videos} videos to process\")\n",
        "\n",
        "    # Process in chunks to manage memory\n",
        "    all_failed_videos = []\n",
        "    all_successful_videos = []\n",
        "\n",
        "    # Calculate number of chunks\n",
        "    num_chunks = (total_videos + chunk_size - 1) // chunk_size\n",
        "\n",
        "    # Process videos in chunks\n",
        "    for chunk_idx in tqdm(range(num_chunks), desc=\"Processing chunks\"):\n",
        "        start_idx = chunk_idx * chunk_size\n",
        "        end_idx = min(start_idx + chunk_size, total_videos)\n",
        "        chunk_videos = video_files[start_idx:end_idx]\n",
        "\n",
        "        print(f\"\\nProcessing chunk {chunk_idx + 1}/{num_chunks} ({len(chunk_videos)} videos)\")\n",
        "\n",
        "        # Process the chunk\n",
        "        failed_chunk, successful_chunk = process_video_chunk((\n",
        "            chunk_videos, processed_folder, output_base_folder, start_idx\n",
        "        ))\n",
        "\n",
        "        all_failed_videos.extend(failed_chunk)\n",
        "        all_successful_videos.extend(successful_chunk)\n",
        "\n",
        "        # Clear memory after each chunk\n",
        "        if torch.cuda.is_available():\n",
        "            torch.cuda.empty_cache()\n",
        "        gc.collect()\n",
        "\n",
        "        # Save progress after each chunk\n",
        "        save_progress(enhanced_folder, all_failed_videos, all_successful_videos, chunk_idx)\n",
        "\n",
        "    # Print final summary\n",
        "    print(\"\\nProcessing Complete!\")\n",
        "    print(f\"Total videos processed: {total_videos}\")\n",
        "    print(f\"Successfully processed: {len(all_successful_videos)}\")\n",
        "    print(f\"Failed: {len(all_failed_videos)}\")\n",
        "\n",
        "    if all_failed_videos:\n",
        "        save_error_log(enhanced_folder, all_failed_videos)\n",
        "\n",
        "    return enhanced_folder, all_failed_videos, all_successful_videos\n",
        "\n",
        "def save_progress(folder, failed, successful, chunk_idx):\n",
        "    \"\"\"Save progress after each chunk\"\"\"\n",
        "    progress_file = folder / f'progress_chunk_{chunk_idx}.txt'\n",
        "    with open(progress_file, 'w') as f:\n",
        "        f.write(f\"Processed through chunk {chunk_idx}\\n\")\n",
        "        f.write(f\"Successful so far: {len(successful)}\\n\")\n",
        "        f.write(f\"Failed so far: {len(failed)}\\n\")\n",
        "\n",
        "def save_error_log(folder, failed_videos):\n",
        "    \"\"\"Save detailed error log\"\"\"\n",
        "    log_path = folder / 'failed_enhancements_log.txt'\n",
        "    with open(log_path, 'w') as f:\n",
        "        f.write(\"Failed Enhancements Report\\n\")\n",
        "        f.write(\"========================\\n\\n\")\n",
        "        for path, error in failed_videos:\n",
        "            f.write(f\"Video: {path}\\n\")\n",
        "            f.write(f\"Error: {error}\\n\\n\")\n",
        "\n",
        "if __name__ == \"__main__\":\n",
        "    # Check for GPU\n",
        "    if torch.cuda.is_available():\n",
        "        print(f\"Using GPU: {torch.cuda.get_device_name(0)}\")\n",
        "    else:\n",
        "        print(\"No GPU available, using CPU\")\n",
        "\n",
        "    # Base paths - convert string paths to Path objects\n",
        "    BASE_FOLDER = Path('/content/drive/MyDrive/OMDENA')\n",
        "    PROCESSED_FOLDER = BASE_FOLDER / 'processed_videos_v2'\n",
        "\n",
        "    # Reduced chunk size for better memory management\n",
        "    CHUNK_SIZE = 5\n",
        "\n",
        "    # Enhance the videos\n",
        "    enhanced_folder, failed_videos, successful_videos = enhance_videos_with_gpu(\n",
        "        PROCESSED_FOLDER,\n",
        "        BASE_FOLDER,\n",
        "        chunk_size=CHUNK_SIZE\n",
        "    )"
      ]
    },
    {
      "cell_type": "code",
      "execution_count": 5,
      "metadata": {
        "id": "R-vI5aLCyPPr",
        "colab": {
          "base_uri": "https://localhost:8080/"
        },
        "outputId": "dcedbc02-e18b-4354-ea88-95a71e30e805"
      },
      "outputs": [
        {
          "output_type": "stream",
          "name": "stdout",
          "text": [
            "Deleted: /content/drive/MyDrive/OMDENA/enhanced_videos_v2/progress_chunk_0.txt\n",
            "Deleted: /content/drive/MyDrive/OMDENA/enhanced_videos_v2/progress_chunk_1.txt\n",
            "Deleted: /content/drive/MyDrive/OMDENA/enhanced_videos_v2/progress_chunk_2.txt\n",
            "Deleted: /content/drive/MyDrive/OMDENA/enhanced_videos_v2/progress_chunk_3.txt\n",
            "Deleted: /content/drive/MyDrive/OMDENA/enhanced_videos_v2/progress_chunk_4.txt\n",
            "Deleted: /content/drive/MyDrive/OMDENA/enhanced_videos_v2/progress_chunk_5.txt\n",
            "Deleted: /content/drive/MyDrive/OMDENA/enhanced_videos_v2/progress_chunk_6.txt\n",
            "Deleted: /content/drive/MyDrive/OMDENA/enhanced_videos_v2/progress_chunk_7.txt\n",
            "Deleted: /content/drive/MyDrive/OMDENA/enhanced_videos_v2/progress_chunk_8.txt\n",
            "Deleted: /content/drive/MyDrive/OMDENA/enhanced_videos_v2/progress_chunk_9.txt\n",
            "Deleted: /content/drive/MyDrive/OMDENA/enhanced_videos_v2/progress_chunk_10.txt\n",
            "Deleted: /content/drive/MyDrive/OMDENA/enhanced_videos_v2/progress_chunk_11.txt\n",
            "Deleted: /content/drive/MyDrive/OMDENA/enhanced_videos_v2/progress_chunk_12.txt\n",
            "Deleted: /content/drive/MyDrive/OMDENA/enhanced_videos_v2/progress_chunk_13.txt\n",
            "Deleted: /content/drive/MyDrive/OMDENA/enhanced_videos_v2/progress_chunk_14.txt\n",
            "Deleted: /content/drive/MyDrive/OMDENA/enhanced_videos_v2/progress_chunk_15.txt\n",
            "Deleted: /content/drive/MyDrive/OMDENA/enhanced_videos_v2/progress_chunk_16.txt\n",
            "Deleted: /content/drive/MyDrive/OMDENA/enhanced_videos_v2/progress_chunk_17.txt\n",
            "Deleted: /content/drive/MyDrive/OMDENA/enhanced_videos_v2/progress_chunk_18.txt\n",
            "Deleted: /content/drive/MyDrive/OMDENA/enhanced_videos_v2/progress_chunk_19.txt\n",
            "Deleted: /content/drive/MyDrive/OMDENA/enhanced_videos_v2/progress_chunk_20.txt\n",
            "Deleted: /content/drive/MyDrive/OMDENA/enhanced_videos_v2/progress_chunk_21.txt\n",
            "Deleted: /content/drive/MyDrive/OMDENA/enhanced_videos_v2/progress_chunk_22.txt\n",
            "Deleted: /content/drive/MyDrive/OMDENA/enhanced_videos_v2/progress_chunk_23.txt\n",
            "Deleted: /content/drive/MyDrive/OMDENA/enhanced_videos_v2/progress_chunk_24.txt\n",
            "Deleted: /content/drive/MyDrive/OMDENA/enhanced_videos_v2/progress_chunk_25.txt\n",
            "Deleted: /content/drive/MyDrive/OMDENA/enhanced_videos_v2/progress_chunk_26.txt\n",
            "Deleted: /content/drive/MyDrive/OMDENA/enhanced_videos_v2/progress_chunk_27.txt\n",
            "Deleted: /content/drive/MyDrive/OMDENA/enhanced_videos_v2/progress_chunk_28.txt\n",
            "Deleted: /content/drive/MyDrive/OMDENA/enhanced_videos_v2/progress_chunk_29.txt\n",
            "Deleted: /content/drive/MyDrive/OMDENA/enhanced_videos_v2/progress_chunk_30.txt\n",
            "Deleted: /content/drive/MyDrive/OMDENA/enhanced_videos_v2/progress_chunk_31.txt\n",
            "Deleted: /content/drive/MyDrive/OMDENA/enhanced_videos_v2/progress_chunk_32.txt\n",
            "Deleted: /content/drive/MyDrive/OMDENA/enhanced_videos_v2/progress_chunk_33.txt\n",
            "Deleted: /content/drive/MyDrive/OMDENA/enhanced_videos_v2/progress_chunk_34.txt\n",
            "Deleted: /content/drive/MyDrive/OMDENA/enhanced_videos_v2/progress_chunk_35.txt\n",
            "Deleted: /content/drive/MyDrive/OMDENA/enhanced_videos_v2/progress_chunk_36.txt\n",
            "Deleted: /content/drive/MyDrive/OMDENA/enhanced_videos_v2/progress_chunk_37.txt\n",
            "Deleted: /content/drive/MyDrive/OMDENA/enhanced_videos_v2/progress_chunk_38.txt\n",
            "Deleted: /content/drive/MyDrive/OMDENA/enhanced_videos_v2/progress_chunk_39.txt\n",
            "Deleted: /content/drive/MyDrive/OMDENA/enhanced_videos_v2/progress_chunk_40.txt\n",
            "Deleted: /content/drive/MyDrive/OMDENA/enhanced_videos_v2/progress_chunk_41.txt\n",
            "Deleted: /content/drive/MyDrive/OMDENA/enhanced_videos_v2/progress_chunk_42.txt\n",
            "Deleted: /content/drive/MyDrive/OMDENA/enhanced_videos_v2/progress_chunk_43.txt\n",
            "Deleted: /content/drive/MyDrive/OMDENA/enhanced_videos_v2/progress_chunk_44.txt\n",
            "Deleted: /content/drive/MyDrive/OMDENA/enhanced_videos_v2/progress_chunk_45.txt\n",
            "Deleted: /content/drive/MyDrive/OMDENA/enhanced_videos_v2/progress_chunk_46.txt\n",
            "Deleted: /content/drive/MyDrive/OMDENA/enhanced_videos_v2/progress_chunk_47.txt\n",
            "Deleted: /content/drive/MyDrive/OMDENA/enhanced_videos_v2/progress_chunk_48.txt\n",
            "Deleted: /content/drive/MyDrive/OMDENA/enhanced_videos_v2/progress_chunk_49.txt\n",
            "Deleted: /content/drive/MyDrive/OMDENA/enhanced_videos_v2/progress_chunk_50.txt\n",
            "Deleted: /content/drive/MyDrive/OMDENA/enhanced_videos_v2/progress_chunk_51.txt\n",
            "Deleted: /content/drive/MyDrive/OMDENA/enhanced_videos_v2/progress_chunk_52.txt\n",
            "Deleted: /content/drive/MyDrive/OMDENA/enhanced_videos_v2/progress_chunk_53.txt\n",
            "Cleanup complete!\n"
          ]
        }
      ],
      "source": [
        "def cleanup_progress_files(enhanced_folder):\n",
        "    \"\"\"\n",
        "    Clean up progress and log files after successful processing\n",
        "    \"\"\"\n",
        "    enhanced_folder = Path(enhanced_folder)\n",
        "\n",
        "    # Delete all progress chunk files\n",
        "    progress_files = list(enhanced_folder.glob('progress_chunk_*.txt'))\n",
        "    for file in progress_files:\n",
        "        try:\n",
        "            file.unlink()\n",
        "            print(f\"Deleted: {file}\")\n",
        "        except Exception as e:\n",
        "            print(f\"Could not delete {file}: {e}\")\n",
        "\n",
        "    # Delete the error log file if it exists\n",
        "    error_log = enhanced_folder / 'failed_enhancements_log.txt'\n",
        "    if error_log.exists():\n",
        "        try:\n",
        "            error_log.unlink()\n",
        "            print(f\"Deleted: {error_log}\")\n",
        "        except Exception as e:\n",
        "            print(f\"Could not delete {error_log}: {e}\")\n",
        "\n",
        "    print(\"Cleanup complete!\")\n",
        "\n",
        "# Use it like this:\n",
        "if __name__ == \"__main__\":\n",
        "    BASE_FOLDER = Path('/content/drive/MyDrive/OMDENA')\n",
        "    enhanced_folder = BASE_FOLDER / 'enhanced_videos_v2'\n",
        "    cleanup_progress_files(enhanced_folder)"
      ]
    }
  ],
  "metadata": {
    "colab": {
      "provenance": [],
      "gpuType": "T4"
    },
    "kernelspec": {
      "display_name": "Python 3",
      "name": "python3"
    },
    "language_info": {
      "name": "python"
    },
    "accelerator": "GPU"
  },
  "nbformat": 4,
  "nbformat_minor": 0
}