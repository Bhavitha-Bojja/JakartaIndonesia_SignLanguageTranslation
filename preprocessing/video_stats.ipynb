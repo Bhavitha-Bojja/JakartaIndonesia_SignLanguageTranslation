{
  "nbformat": 4,
  "nbformat_minor": 0,
  "metadata": {
    "colab": {
      "provenance": []
    },
    "kernelspec": {
      "name": "python3",
      "display_name": "Python 3"
    },
    "language_info": {
      "name": "python"
    }
  },
  "cells": [
    {
      "cell_type": "code",
      "source": [
        "# prompt: mount drive\n",
        "\n",
        "from google.colab import drive\n",
        "drive.mount('/content/drive')"
      ],
      "metadata": {
        "colab": {
          "base_uri": "https://localhost:8080/"
        },
        "id": "6vAM4i0k_Z_D",
        "outputId": "421744a9-1e31-48c3-b86b-b64e591e2e08"
      },
      "execution_count": null,
      "outputs": [
        {
          "output_type": "stream",
          "name": "stdout",
          "text": [
            "Mounted at /content/drive\n"
          ]
        }
      ]
    },
    {
      "cell_type": "code",
      "execution_count": null,
      "metadata": {
        "id": "jm4IZf6u4u8Q",
        "colab": {
          "base_uri": "https://localhost:8080/"
        },
        "outputId": "9ae3544e-222a-4882-fbc8-73dc04a43ef9"
      },
      "outputs": [
        {
          "output_type": "stream",
          "name": "stdout",
          "text": [
            "/content/drive/My Drive/Omdena Jakarta/datasets/data_collected\n"
          ]
        }
      ],
      "source": [
        "PROJECT_FOLDER = '/content/drive/My Drive/Omdena Jakarta/datasets/data_collected'\n",
        "%cd $PROJECT_FOLDER"
      ]
    },
    {
      "cell_type": "code",
      "source": [
        "import os\n",
        "\n",
        "video_counts = {}\n",
        "\n",
        "for folder in sorted(os.listdir(PROJECT_FOLDER)):\n",
        "    folder_path = os.path.join(PROJECT_FOLDER, folder)\n",
        "    if os.path.isdir(folder_path):\n",
        "        # Count number of video files in the subfolder\n",
        "        video_files = [f for f in os.listdir(folder_path) if f.lower().endswith(('.mp4', '.avi', '.mov', '.mkv'))]\n",
        "        print(f\"{folder}: {len(video_files)}\")\n",
        "        video_counts[folder] = len(video_files)\n"
      ],
      "metadata": {
        "colab": {
          "base_uri": "https://localhost:8080/"
        },
        "id": "qKzcIM4w_ro-",
        "outputId": "68d5eab5-25aa-447a-bd1b-79742d0da367"
      },
      "execution_count": null,
      "outputs": [
        {
          "output_type": "stream",
          "name": "stdout",
          "text": [
            "adik: 9\n",
            "anak: 9\n",
            "besar: 9\n",
            "buka: 9\n",
            "buruk: 9\n",
            "dengar: 9\n",
            "gembira: 9\n",
            "guru: 9\n",
            "haus: 8\n",
            "ibu: 9\n",
            "jalan: 8\n",
            "keluarga: 8\n",
            "kertas: 8\n",
            "kucing: 8\n",
            "lapar: 8\n",
            "lihat: 8\n",
            "maaf: 8\n",
            "main: 8\n",
            "makan: 7\n",
            "marah: 9\n",
            "minum: 8\n",
            "nama: 8\n",
            "orang: 7\n",
            "panggil: 8\n",
            "rumah: 8\n",
            "sedikit: 8\n",
            "selamat: 8\n",
            "senyum: 8\n",
            "teman: 7\n",
            "tidur: 7\n"
          ]
        }
      ]
    },
    {
      "cell_type": "code",
      "source": [
        "import cv2\n",
        "import numpy as np\n",
        "from collections import Counter\n",
        "\n",
        "\n",
        "def get_video_metadata(video_path):\n",
        "    video = cv2.VideoCapture(video_path)\n",
        "    width = int(video.get(cv2.CAP_PROP_FRAME_WIDTH))\n",
        "    height = int(video.get(cv2.CAP_PROP_FRAME_HEIGHT))\n",
        "    fps = video.get(cv2.CAP_PROP_FPS)\n",
        "    frame_count = int(video.get(cv2.CAP_PROP_FRAME_COUNT))\n",
        "    duration = frame_count / fps if fps else 0\n",
        "    video.release()\n",
        "    return duration, (width, height)\n",
        "\n",
        "def calculate_mean_and_mode(video_dir):\n",
        "    overall_dims = []\n",
        "    overall_durations = []\n",
        "    results_per_label = {}\n",
        "\n",
        "    for label in os.listdir(video_dir):\n",
        "        label_path = os.path.join(video_dir, label)\n",
        "        if not os.path.isdir(label_path):\n",
        "            continue\n",
        "\n",
        "        durations = []\n",
        "        dimensions = []\n",
        "\n",
        "        for video_file in os.listdir(label_path):\n",
        "            video_path = os.path.join(label_path, video_file)\n",
        "            if not os.path.isfile(video_path):\n",
        "                continue\n",
        "\n",
        "            try:\n",
        "                duration, dims = get_video_metadata(video_path)\n",
        "                durations.append(duration)\n",
        "                dimensions.append(dims)\n",
        "            except Exception as e:\n",
        "                print(f\"Error processing {video_path}: {e}\")\n",
        "                continue\n",
        "\n",
        "        if durations and dimensions:\n",
        "            mean_duration = np.mean(durations)\n",
        "            results_per_label[label] = mean_duration\n",
        "            overall_dims.extend(dimensions)\n",
        "            overall_durations.extend(durations)\n",
        "\n",
        "    overall_mode_dims = Counter(overall_dims).most_common(1)[0][0] if overall_dims else None\n",
        "    overall_mean_duration = np.mean(overall_durations) if overall_durations else 0\n",
        "\n",
        "    return results_per_label, overall_mode_dims, overall_mean_duration\n",
        "\n",
        "# Example usage\n",
        "results_per_label, overall_mode_dims, overall_mean_duration = calculate_mean_and_mode(PROJECT_FOLDER)\n",
        "\n",
        "# Print results\n",
        "for label, mean_duration in results_per_label.items():\n",
        "    print(f\"Label: {label}, Mean Duration: {mean_duration:.2f} seconds\")\n",
        "\n",
        "print(\"\\nOverall Mode Dimensions:\", overall_mode_dims)\n",
        "print(\"Overall Mean Duration:\", round(overall_mean_duration, 2))"
      ],
      "metadata": {
        "colab": {
          "base_uri": "https://localhost:8080/"
        },
        "id": "IqcQHloPAdz5",
        "outputId": "08bfbc07-e800-4e6f-e0e8-5346553aec3e"
      },
      "execution_count": null,
      "outputs": [
        {
          "output_type": "stream",
          "name": "stdout",
          "text": [
            "Label: lihat, Mean Duration: 3.47 seconds\n",
            "Label: ibu, Mean Duration: 3.26 seconds\n",
            "Label: selamat, Mean Duration: 3.86 seconds\n",
            "Label: guru, Mean Duration: 2.94 seconds\n",
            "Label: rumah, Mean Duration: 3.13 seconds\n",
            "Label: orang, Mean Duration: 2.96 seconds\n",
            "Label: sedikit, Mean Duration: 3.30 seconds\n",
            "Label: maaf, Mean Duration: 3.54 seconds\n",
            "Label: adik, Mean Duration: 3.47 seconds\n",
            "Label: besar, Mean Duration: 3.12 seconds\n",
            "Label: marah, Mean Duration: 3.15 seconds\n",
            "Label: kucing, Mean Duration: 3.60 seconds\n",
            "Label: nama, Mean Duration: 3.83 seconds\n",
            "Label: panggil, Mean Duration: 3.61 seconds\n",
            "Label: teman, Mean Duration: 3.74 seconds\n",
            "Label: gembira, Mean Duration: 3.82 seconds\n",
            "Label: buruk, Mean Duration: 2.83 seconds\n",
            "Label: keluarga, Mean Duration: 4.42 seconds\n",
            "Label: kertas, Mean Duration: 3.99 seconds\n",
            "Label: dengar, Mean Duration: 2.87 seconds\n",
            "Label: lapar, Mean Duration: 3.49 seconds\n",
            "Label: minum, Mean Duration: 3.92 seconds\n",
            "Label: haus, Mean Duration: 3.66 seconds\n",
            "Label: jalan, Mean Duration: 3.65 seconds\n",
            "Label: makan, Mean Duration: 4.05 seconds\n",
            "Label: tidur, Mean Duration: 3.35 seconds\n",
            "Label: main, Mean Duration: 3.43 seconds\n",
            "Label: anak, Mean Duration: 3.16 seconds\n",
            "Label: senyum, Mean Duration: 3.17 seconds\n",
            "Label: buka, Mean Duration: 3.17 seconds\n",
            "\n",
            "Overall Mode Dimensions: (1920, 1080)\n",
            "Overall Mean Duration: 3.45\n"
          ]
        }
      ]
    },
    {
      "cell_type": "markdown",
      "source": [
        "we can bring down the resolution to 640x360 or lower, and duration around 3 seconds, without manual checking"
      ],
      "metadata": {
        "id": "KmY1QXEdJMf6"
      }
    },
    {
      "cell_type": "code",
      "source": [],
      "metadata": {
        "id": "aMqhgrPGIWv0"
      },
      "execution_count": null,
      "outputs": []
    }
  ]
}