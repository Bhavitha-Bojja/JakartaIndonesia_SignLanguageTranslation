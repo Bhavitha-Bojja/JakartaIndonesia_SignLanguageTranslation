{
    "nbformat": 4,
    "nbformat_minor": 0,
    "metadata": {
        "colab": {
            "provenance": [
                {
                    "file_id": "1R3JBkpCIzvsbsifd6bnT1RYpDBzBOVVG",
                    "timestamp": 1733321022612
                }
            ],
            "toc_visible": true
        },
        "kernelspec": {
            "name": "python3",
            "display_name": "Python 3"
        },
        "language_info": {
            "name": "python"
        }
    },
    "cells": [
        {
            "cell_type": "markdown",
            "source": [
                "# Landmark Augmentation\n",
                "\n",
                "Increase landmark data by simulating variations found in real videos we don't have."
            ],
            "metadata": {
                "id": "43_EzKRcji05"
            }
        },
        {
            "cell_type": "code",
            "source": [
                "import numpy as np\n",
                "import matplotlib.pyplot as plt\n",
                "import random\n",
                "import os"
            ],
            "metadata": {
                "id": "Je4_g4sfoRLh",
                "executionInfo": {
                    "status": "ok",
                    "timestamp": 1733325139901,
                    "user_tz": -420,
                    "elapsed": 307,
                    "user": {
                        "displayName": "Kenji Surya Utama",
                        "userId": "07896803662774016361"
                    }
                }
            },
            "execution_count": 16,
            "outputs": []
        },
        {
            "cell_type": "markdown",
            "source": [
                "# Augmentation Variation"
            ],
            "metadata": {
                "id": "MKKaHKUHnZ0T"
            }
        },
        {
            "cell_type": "markdown",
            "source": [
                "## Mirroring (Horizontal Flip)\n",
                "**Imitation**: This simulates scenarios involving left-handed and right-handed individuals.<br>\n",
                "**How It Helps**:\n",
                "*   Balances the dataset by effectively doubling the diversity of signs.\n",
                "*   Helps the model learn symmetry in gestures, reducing bias towards one-handedness.\n",
                "\n",
                "**Implementation:** Negate the x coordinates."
            ],
            "metadata": {
                "id": "ZV7ORKzllD_a"
            }
        },
        {
            "cell_type": "code",
            "source": [
                "def mirror_landmarks(landmarks):\n",
                "    mirrored = landmarks.copy()\n",
                "    mirrored[:, 0] = -mirrored[:, 0]  # Flip X-axis\n",
                "    return mirrored"
            ],
            "metadata": {
                "id": "IwRHenGLlhhR",
                "executionInfo": {
                    "status": "ok",
                    "timestamp": 1733325141910,
                    "user_tz": -420,
                    "elapsed": 322,
                    "user": {
                        "displayName": "Kenji Surya Utama",
                        "userId": "07896803662774016361"
                    }
                }
            },
            "execution_count": 17,
            "outputs": []
        },
        {
            "cell_type": "markdown",
            "source": [
                "## Rotation\n",
                "**Imitation:** Models slight changes in camera angle or body posture.\n",
                "\n",
                "**How It Helps:**\n",
                "* Makes the model robust to minor misalignments during video capture.\n",
                "* Prepares the model for non-perfect frontal views of gestures.\n",
                "\n",
                "**Implementation:** Apply a 2D rotation transformation to landmarks."
            ],
            "metadata": {
                "id": "MYHArKGOlw1k"
            }
        },
        {
            "cell_type": "code",
            "source": [
                "def rotate_landmarks(landmarks, angle_deg=10):\n",
                "    angle_rad = np.radians(angle_deg)\n",
                "    rotation_matrix = np.array([\n",
                "        [np.cos(angle_rad), -np.sin(angle_rad)],\n",
                "        [np.sin(angle_rad), np.cos(angle_rad)]\n",
                "    ])\n",
                "    return landmarks[:, :2] @ rotation_matrix.T  # Apply rotation on X-Y plane only"
            ],
            "metadata": {
                "id": "lk3v5fjwmDvr",
                "executionInfo": {
                    "status": "ok",
                    "timestamp": 1733325144195,
                    "user_tz": -420,
                    "elapsed": 308,
                    "user": {
                        "displayName": "Kenji Surya Utama",
                        "userId": "07896803662774016361"
                    }
                }
            },
            "execution_count": 18,
            "outputs": []
        },
        {
            "cell_type": "markdown",
            "source": [
                "## Adding Noise (Jitter)\n",
                "**Imitation:** Models real-world variations or inaccuracies in landmark detection.\n",
                "\n",
                "**How It Helps:**\n",
                "* Improves robustness to noisy data or detection errors during preprocessing.\n",
                "* Encourages the model to learn key patterns, not rely on overly precise coordinates.\n",
                "\n",
                "**Implementation:** Add random small values to the coordinates."
            ],
            "metadata": {
                "id": "dK13LustnDmV"
            }
        },
        {
            "cell_type": "code",
            "source": [
                "def add_noise(landmarks, noise_std=0.01):\n",
                "    noisy = landmarks.copy()\n",
                "    noise = np.random.normal(0, noise_std, landmarks.shape)  # Add noise to all coordinates (X, Y, Z)\n",
                "    noisy += noise\n",
                "    return noisy"
            ],
            "metadata": {
                "id": "S9V_AtsIPjWO",
                "executionInfo": {
                    "status": "ok",
                    "timestamp": 1733325389231,
                    "user_tz": -420,
                    "elapsed": 293,
                    "user": {
                        "displayName": "Kenji Surya Utama",
                        "userId": "07896803662774016361"
                    }
                }
            },
            "execution_count": 19,
            "outputs": []
        },
        {
            "cell_type": "markdown",
            "source": [
                "# Augmentation\n",
                "\n",
                "Instead of implementing the same augmentation for each video, randomness is used for every type of augmentation. This imitates the random quality of videos in real situations."
            ],
            "metadata": {
                "id": "AIUdty07neIM"
            }
        },
        {
            "cell_type": "code",
            "source": [
                "def augment_landmarks(landmarks):\n",
                "    # Determine augmentations once per video, higher chance since only few augmented videos\n",
                "    # mirror = random.random() < 0.5\n",
                "    angle = random.uniform(-5, 5) if random.random() < 0.7 else 0\n",
                "    noise_std = 0.01 if random.random() < 0.7 else 0\n",
                "\n",
                "    augmented_frames = []\n",
                "    for frame in landmarks:\n",
                "        augmented = frame.copy()\n",
                "\n",
                "        # if mirror:\n",
                "        #     augmented = mirror_landmarks(augmented)\n",
                "\n",
                "        if angle != 0:\n",
                "          augmented[:, :2] = rotate_landmarks(augmented, angle_deg=angle)\n",
                "\n",
                "        if noise_std != 0:\n",
                "            augmented = add_noise(augmented, noise_std=noise_std)\n",
                "\n",
                "        augmented_frames.append(augmented)\n",
                "\n",
                "    return np.array(augmented_frames)"
            ],
            "metadata": {
                "id": "bHywYOQJnSrd",
                "executionInfo": {
                    "status": "ok",
                    "timestamp": 1733325511830,
                    "user_tz": -420,
                    "elapsed": 290,
                    "user": {
                        "displayName": "Kenji Surya Utama",
                        "userId": "07896803662774016361"
                    }
                }
            },
            "execution_count": 28,
            "outputs": []
        },
        {
            "cell_type": "code",
            "source": [
                "# Set seed for consistency\n",
                "# random.seed(66)\n",
                "# np.random.seed(66)\n",
                "\n",
                "# Load landmarks\n",
                "landmarks = np.load(\"/content/drive/MyDrive/Omdena/sign_language_recognition/sign-landmark-dataset/final_landmarks/train/adik/1.npy\")\n",
                "\n",
                "# Apply augmentation consistently across all frames of the video\n",
                "augmented_landmarks_all = augment_landmarks(landmarks)"
            ],
            "metadata": {
                "id": "IeHhP3Brnqey",
                "executionInfo": {
                    "status": "ok",
                    "timestamp": 1733325515607,
                    "user_tz": -420,
                    "elapsed": 451,
                    "user": {
                        "displayName": "Kenji Surya Utama",
                        "userId": "07896803662774016361"
                    }
                }
            },
            "execution_count": 29,
            "outputs": []
        },
        {
            "cell_type": "markdown",
            "source": [
                "# Visualization"
            ],
            "metadata": {
                "id": "SspdHFOrnzws"
            }
        },
        {
            "cell_type": "code",
            "source": [
                "# Function to plot 2D landmarks for a single frame\n",
                "def plot_landmarks_2d(landmarks, title=\"Landmarks\", label='Original'):\n",
                "    plt.scatter(landmarks[:, 0], landmarks[:, 1], label=label)\n",
                "    plt.xlabel(\"X-axis\")\n",
                "    plt.ylabel(\"Y-axis\")\n",
                "    plt.title(title)\n",
                "    plt.axhline(0, color='gray', linestyle='--', linewidth=0.5)\n",
                "    plt.axvline(0, color='gray', linestyle='--', linewidth=0.5)\n",
                "    plt.legend()\n",
                "    plt.grid(True)"
            ],
            "metadata": {
                "id": "r-zkLR-Qoq53",
                "executionInfo": {
                    "status": "ok",
                    "timestamp": 1733325421623,
                    "user_tz": -420,
                    "elapsed": 329,
                    "user": {
                        "displayName": "Kenji Surya Utama",
                        "userId": "07896803662774016361"
                    }
                }
            },
            "execution_count": 22,
            "outputs": []
        },
        {
            "cell_type": "code",
            "source": [
                "# Visualize a subset of frames\n",
                "subset_indices = np.linspace(0, len(landmarks) - 1, 5, dtype=int)  # Choose 5 evenly spaced frames\n",
                "plt.figure(figsize=(10, 8))\n",
                "for i, idx in enumerate(subset_indices, start=1):\n",
                "    plt.subplot(2, 3, i)\n",
                "    plot_landmarks_2d(landmarks[idx], title=f\"Original Frame {idx}\", label=\"Original\")\n",
                "    plot_landmarks_2d(augmented_landmarks_all[idx], title=f\"Frame {idx}\", label=\"Augmented\")\n",
                "\n",
                "plt.tight_layout()\n",
                "plt.show()"
            ],
            "metadata": {
                "colab": {
                    "base_uri": "https://localhost:8080/",
                    "height": 807
                },
                "id": "hFSVRuKSnzR2",
                "executionInfo": {
                    "status": "ok",
                    "timestamp": 1733325521220,
                    "user_tz": -420,
                    "elapsed": 3220,
                    "user": {
                        "displayName": "Kenji Surya Utama",
                        "userId": "07896803662774016361"
                    }
                },
                "outputId": "6cea6b25-70ab-4f63-de82-54132eeefe81"
            },
            "execution_count": 30,
            "outputs": [
                {
                    "output_type": "display_data",
                    "data": {
                        "text/plain": [
                            "<Figure size 1000x800 with 5 Axes>"
                        ],
                        "image/png": "[encoded data removed]"
                    },
                    "metadata": {}
                }
            ]
        },
        {
            "cell_type": "markdown",
            "source": [
                "#Augment landmark 3 times and save"
            ],
            "metadata": {
                "id": "1mGNoBZwpVbm"
            }
        },
        {
            "cell_type": "code",
            "source": [
                "DATA_DIR = '/content/drive/MyDrive/Omdena/sign_language_recognition/sign-landmark-dataset/final_landmarks/train'\n",
                "SAVE_DIR = '/content/drive/MyDrive/Omdena/sign_language_recognition/sign-landmark-dataset/final_landmarks/train_augmented'\n",
                "\n",
                "os.makedirs(SAVE_DIR, exist_ok=True)\n",
                "\n",
                "for word in os.listdir(DATA_DIR):\n",
                "    word_dir = os.path.join(DATA_DIR, word)\n",
                "    save_word_dir = os.path.join(SAVE_DIR, word)\n",
                "    os.makedirs(save_word_dir, exist_ok=True)\n",
                "    print(\"Processing\", word, \"Folder\")\n",
                "    for landmark_file in os.listdir(word_dir):\n",
                "        base_name, ext = os.path.splitext(landmark_file)\n",
                "\n",
                "        for i in range(3): # Loop 3 times for each video\n",
                "            save_path = os.path.join(save_word_dir, f\"{base_name}_aug_{i}{ext}\")\n",
                "\n",
                "            # Skip if the keypoints file already exists\n",
                "            if os.path.exists(save_path):\n",
                "                continue\n",
                "\n",
                "            # print(f\"Processing {word}/{landmark_file}, augmentation {i+1}/3\")\n",
                "            landmarks = np.load(os.path.join(word_dir, landmark_file))\n",
                "            augmented_landmarks_all = augment_landmarks(landmarks)\n",
                "            np.save(save_path, augmented_landmarks_all)  # Save as .npy"
            ],
            "metadata": {
                "id": "1zQ3bI49twlN",
                "colab": {
                    "base_uri": "https://localhost:8080/"
                },
                "executionInfo": {
                    "status": "ok",
                    "timestamp": 1733325950009,
                    "user_tz": -420,
                    "elapsed": 84186,
                    "user": {
                        "displayName": "Kenji Surya Utama",
                        "userId": "07896803662774016361"
                    }
                },
                "outputId": "b1f5b095-3032-4a34-c263-9e49ee0ea5fb"
            },
            "execution_count": 32,
            "outputs": [
                {
                    "output_type": "stream",
                    "name": "stdout",
                    "text": [
                        "Processing buka Folder\n",
                        "Processing buruk Folder\n",
                        "Processing dengar Folder\n",
                        "Processing adik Folder\n",
                        "Processing nama Folder\n",
                        "Processing senyum Folder\n",
                        "Processing panggil Folder\n",
                        "Processing kucing Folder\n",
                        "Processing keluarga Folder\n",
                        "Processing ibu Folder\n",
                        "Processing marah Folder\n",
                        "Processing haus Folder\n",
                        "Processing selamat Folder\n",
                        "Processing gembira Folder\n",
                        "Processing teman Folder\n",
                        "Processing kertas Folder\n",
                        "Processing guru Folder\n",
                        "Processing jalan Folder\n",
                        "Processing makan Folder\n",
                        "Processing lihat Folder\n",
                        "Processing maaf Folder\n",
                        "Processing anak Folder\n",
                        "Processing orang Folder\n",
                        "Processing main Folder\n",
                        "Processing lapar Folder\n",
                        "Processing sedikit Folder\n",
                        "Processing rumah Folder\n",
                        "Processing besar Folder\n",
                        "Processing tidur Folder\n",
                        "Processing minum Folder\n"
                    ]
                }
            ]
        },
        {
            "cell_type": "markdown",
            "source": [
                "## Note for Potential Future Preprocessing Improvement:\n",
                "\n",
                "\n",
                "*   Delete unecessary keypoint, like waist and below (pose 23-32)\n",
                "*   Reimplement mirror for left-handed\n",
                "* Implement interpolation for undetected hand, or model mask\n",
                "* Pose+Hand instead of Holistic\n",
                "* Parameter Tuning\n",
                "\n"
            ],
            "metadata": {
                "id": "jjCNYhOPJBux"
            }
        },
        {
            "cell_type": "markdown",
            "source": [
                "# Data Merging\n",
                "\n",
                "Merge all landmark npy into 1 for faster data loading time."
            ],
            "metadata": {
                "id": "7UtAskyWSowu"
            }
        },
        {
            "cell_type": "code",
            "source": [
                "def merge_npy_files(parent_folder, output_folder, output_file_name):\n",
                "    # Initialize a list for merged data\n",
                "    merged_data = []\n",
                "\n",
                "    # Iterate through each label folder in the parent folder\n",
                "    for label in os.listdir(parent_folder):\n",
                "        label_folder = os.path.join(parent_folder, label)\n",
                "\n",
                "        # Check if it's a folder\n",
                "        if os.path.isdir(label_folder):\n",
                "            # Iterate through each npy file in the label folder\n",
                "            for file in os.listdir(label_folder):\n",
                "                if file.endswith('.npy'):\n",
                "                    file_path = os.path.join(label_folder, file)\n",
                "                    data = np.load(file_path)  # Load the npy file\n",
                "                    # Append a dictionary of data and label\n",
                "                    merged_data.append({'data': data, 'label': label, 'file_name':file})\n",
                "\n",
                "    # Save the merged data\n",
                "    os.makedirs(output_folder, exist_ok=True)  # Create the folder if it doesn't exist\n",
                "\n",
                "    np.save(os.path.join(output_folder, output_file_name), merged_data)\n",
                "\n",
                "    print(\"Merged data saved successfully!\")"
            ],
            "metadata": {
                "id": "EHQdomdMS7lH",
                "executionInfo": {
                    "status": "ok",
                    "timestamp": 1733327382171,
                    "user_tz": -420,
                    "elapsed": 298,
                    "user": {
                        "displayName": "Kenji Surya Utama",
                        "userId": "07896803662774016361"
                    }
                }
            },
            "execution_count": 52,
            "outputs": []
        },
        {
            "cell_type": "code",
            "source": [
                "parent_folder = '/content/drive/MyDrive/Omdena/sign_language_recognition/sign-landmark-dataset/final_landmarks/train_augmented'\n",
                "output_folder = '/content/drive/MyDrive/Omdena/sign_language_recognition/sign-landmark-dataset/final_landmarks'\n",
                "output_file_name = 'train_augmented.npy'\n",
                "merge_npy_files(parent_folder, output_folder, output_file_name)\n"
            ],
            "metadata": {
                "colab": {
                    "base_uri": "https://localhost:8080/"
                },
                "id": "RyhcrX12Wu29",
                "executionInfo": {
                    "status": "ok",
                    "timestamp": 1733327397853,
                    "user_tz": -420,
                    "elapsed": 5030,
                    "user": {
                        "displayName": "Kenji Surya Utama",
                        "userId": "07896803662774016361"
                    }
                },
                "outputId": "f5296dd0-cdca-409b-cd38-022c136d58aa"
            },
            "execution_count": 53,
            "outputs": [
                {
                    "output_type": "stream",
                    "name": "stdout",
                    "text": [
                        "Merged data saved successfully!\n"
                    ]
                }
            ]
        },
        {
            "cell_type": "code",
            "source": [
                "parent_folder = '/content/drive/MyDrive/Omdena/sign_language_recognition/sign-landmark-dataset/final_landmarks/test'\n",
                "output_folder = '/content/drive/MyDrive/Omdena/sign_language_recognition/sign-landmark-dataset/final_landmarks'\n",
                "output_file_name = 'test.npy'\n",
                "merge_npy_files(parent_folder, output_folder, output_file_name)"
            ],
            "metadata": {
                "colab": {
                    "base_uri": "https://localhost:8080/"
                },
                "id": "cg7ayPFYXyqg",
                "executionInfo": {
                    "status": "ok",
                    "timestamp": 1733327590351,
                    "user_tz": -420,
                    "elapsed": 18607,
                    "user": {
                        "displayName": "Kenji Surya Utama",
                        "userId": "07896803662774016361"
                    }
                },
                "outputId": "3a41df58-e1c6-4f90-ca10-81f0cf80980a"
            },
            "execution_count": 58,
            "outputs": [
                {
                    "output_type": "stream",
                    "name": "stdout",
                    "text": [
                        "Merged data saved successfully!\n"
                    ]
                }
            ]
        },
        {
            "cell_type": "code",
            "source": [
                "parent_folder = '/content/drive/MyDrive/Omdena/sign_language_recognition/sign-landmark-dataset/final_landmarks/train'\n",
                "output_folder = '/content/drive/MyDrive/Omdena/sign_language_recognition/sign-landmark-dataset/final_landmarks'\n",
                "output_file_name = 'train.npy'\n",
                "merge_npy_files(parent_folder, output_folder, output_file_name)"
            ],
            "metadata": {
                "colab": {
                    "base_uri": "https://localhost:8080/"
                },
                "id": "Zm0Tor1hYCNT",
                "executionInfo": {
                    "status": "ok",
                    "timestamp": 1733327633462,
                    "user_tz": -420,
                    "elapsed": 2147,
                    "user": {
                        "displayName": "Kenji Surya Utama",
                        "userId": "07896803662774016361"
                    }
                },
                "outputId": "a868a76a-c26c-4890-fde1-981e63448198"
            },
            "execution_count": 59,
            "outputs": [
                {
                    "output_type": "stream",
                    "name": "stdout",
                    "text": [
                        "Merged data saved successfully!\n"
                    ]
                }
            ]
        },
        {
            "cell_type": "markdown",
            "source": [
                "# Load Data"
            ],
            "metadata": {
                "id": "Ycl27oaQbYcw"
            }
        },
        {
            "cell_type": "code",
            "source": [
                "train_data = np.load('/content/drive/MyDrive/Omdena/sign_language_recognition/sign-landmark-dataset/final_landmarks/train.npy', allow_pickle=True)\n",
                "train_data_aug = np.load('/content/drive/MyDrive/Omdena/sign_language_recognition/sign-landmark-dataset/final_landmarks/train_augmented.npy', allow_pickle=True)\n",
                "\n",
                "train_data = np.concatenate((train_data, train_data_aug), axis=0)\n",
                "train_data.shape"
            ],
            "metadata": {
                "colab": {
                    "base_uri": "https://localhost:8080/"
                },
                "id": "W82CsrHZacwj",
                "executionInfo": {
                    "status": "ok",
                    "timestamp": 1733328452256,
                    "user_tz": -420,
                    "elapsed": 306,
                    "user": {
                        "displayName": "Kenji Surya Utama",
                        "userId": "07896803662774016361"
                    }
                },
                "outputId": "6160a208-bacd-4fd8-c5d7-2958ce24b4dd"
            },
            "execution_count": 81,
            "outputs": [
                {
                    "output_type": "execute_result",
                    "data": {
                        "text/plain": [
                            "(852,)"
                        ]
                    },
                    "metadata": {},
                    "execution_count": 81
                }
            ]
        },
        {
            "cell_type": "code",
            "source": [
                "print(train_data[0]['file_name'])\n",
                "print(train_data[0]['label'])\n",
                "print(train_data[0]['data'].shape)"
            ],
            "metadata": {
                "colab": {
                    "base_uri": "https://localhost:8080/"
                },
                "id": "NPWiitsXanvH",
                "executionInfo": {
                    "status": "ok",
                    "timestamp": 1733328454002,
                    "user_tz": -420,
                    "elapsed": 362,
                    "user": {
                        "displayName": "Kenji Surya Utama",
                        "userId": "07896803662774016361"
                    }
                },
                "outputId": "8d31a4a7-dcc3-430c-96d9-4d38957874c0"
            },
            "execution_count": 82,
            "outputs": [
                {
                    "output_type": "stream",
                    "name": "stdout",
                    "text": [
                        "louis_3.npy\n",
                        "buka\n",
                        "(113, 75, 3)\n"
                    ]
                }
            ]
        },
        {
            "cell_type": "markdown",
            "source": [
                "852 = 213 original + 639 augmented <br>\n",
                "'file name' metadata could be useful for filtering"
            ],
            "metadata": {
                "id": "KSZr9N7zb2ux"
            }
        },
        {
            "cell_type": "code",
            "source": [
                "X_train = [item['data'] for item in train_data]\n",
                "y_train = [item['label'] for item in train_data]\n",
                "\n",
                "# # Convert to NumPy arrays if needed\n",
                "X_train = np.array(X_train)\n",
                "y_train = np.array(y_train)\n",
                "\n",
                "print(\"Shape of X_train:\", X_train.shape)\n",
                "print(\"Shape of y_train:\", y_train.shape)"
            ],
            "metadata": {
                "colab": {
                    "base_uri": "https://localhost:8080/"
                },
                "id": "tRunUg4ubFiJ",
                "executionInfo": {
                    "status": "ok",
                    "timestamp": 1733328456783,
                    "user_tz": -420,
                    "elapsed": 301,
                    "user": {
                        "displayName": "Kenji Surya Utama",
                        "userId": "07896803662774016361"
                    }
                },
                "outputId": "4f5610ee-c039-4fec-8a89-1006f4f8665e"
            },
            "execution_count": 83,
            "outputs": [
                {
                    "output_type": "stream",
                    "name": "stdout",
                    "text": [
                        "Shape of X_train: (852, 113, 75, 3)\n",
                        "Shape of y_train: (852,)\n"
                    ]
                }
            ]
        },
        {
            "cell_type": "code",
            "source": [
                "test_data = np.load('/content/drive/MyDrive/Omdena/sign_language_recognition/sign-landmark-dataset/final_landmarks/test.npy', allow_pickle=True)\n",
                "\n",
                "# Extract features (X) and labels (y)\n",
                "X_test = [item['data'] for item in test_data]\n",
                "y_test = [item['label'] for item in test_data]\n",
                "\n",
                "# Convert to NumPy arrays if needed\n",
                "X_test = np.array(X_test)\n",
                "y_test = np.array(y_test)\n",
                "\n",
                "print(\"Shape of X_test:\", X_test.shape)\n",
                "print(\"Shape of y_test:\", y_test.shape)"
            ],
            "metadata": {
                "colab": {
                    "base_uri": "https://localhost:8080/"
                },
                "id": "SUTot5ozcTTc",
                "executionInfo": {
                    "status": "ok",
                    "timestamp": 1733328756083,
                    "user_tz": -420,
                    "elapsed": 305,
                    "user": {
                        "displayName": "Kenji Surya Utama",
                        "userId": "07896803662774016361"
                    }
                },
                "outputId": "68ba266f-389e-4643-d30a-a971356d311a"
            },
            "execution_count": 84,
            "outputs": [
                {
                    "output_type": "stream",
                    "name": "stdout",
                    "text": [
                        "Shape of X_test: (54, 113, 75, 3)\n",
                        "Shape of y_test: (54,)\n"
                    ]
                }
            ]
        },
        {
            "cell_type": "code",
            "source": [
                "!pip install -q dagshub\n",
                "\n",
                "from dagshub.notebook import save_notebook\n",
                "\n",
                "save_notebook(repo=\"Omdena/JakartaIndonesia_SignLanguageTranslation\", path=\"preprocessing\", branch=\"kenji\")"
            ],
            "metadata": {
                "colab": {
                    "base_uri": "https://localhost:8080/"
                },
                "id": "Sc36M675dcPc",
                "outputId": "5eb4862d-1bec-45eb-986d-0227f330a2f6"
            },
            "execution_count": null,
            "outputs": [
                {
                    "output_type": "stream",
                    "name": "stdout",
                    "text": [
                        "\u001b[2K   \u001b[90m\u2501\u2501\u2501\u2501\u2501\u2501\u2501\u2501\u2501\u2501\u2501\u2501\u2501\u2501\u2501\u2501\u2501\u2501\u2501\u2501\u2501\u2501\u2501\u2501\u2501\u2501\u2501\u2501\u2501\u2501\u2501\u2501\u2501\u2501\u2501\u2501\u2501\u2501\u2501\u2501\u001b[0m \u001b[32m252.2/252.2 kB\u001b[0m \u001b[31m8.8 MB/s\u001b[0m eta \u001b[36m0:00:00\u001b[0m\n",
                        "\u001b[2K   \u001b[90m\u2501\u2501\u2501\u2501\u2501\u2501\u2501\u2501\u2501\u2501\u2501\u2501\u2501\u2501\u2501\u2501\u2501\u2501\u2501\u2501\u2501\u2501\u2501\u2501\u2501\u2501\u2501\u2501\u2501\u2501\u2501\u2501\u2501\u2501\u2501\u2501\u2501\u2501\u2501\u2501\u001b[0m \u001b[32m139.2/139.2 kB\u001b[0m \u001b[31m10.1 MB/s\u001b[0m eta \u001b[36m0:00:00\u001b[0m\n",
                        "\u001b[2K   \u001b[90m\u2501\u2501\u2501\u2501\u2501\u2501\u2501\u2501\u2501\u2501\u2501\u2501\u2501\u2501\u2501\u2501\u2501\u2501\u2501\u2501\u2501\u2501\u2501\u2501\u2501\u2501\u2501\u2501\u2501\u2501\u2501\u2501\u2501\u2501\u2501\u2501\u2501\u2501\u2501\u2501\u001b[0m \u001b[32m13.2/13.2 MB\u001b[0m \u001b[31m75.9 MB/s\u001b[0m eta \u001b[36m0:00:00\u001b[0m\n",
                        "\u001b[2K   \u001b[90m\u2501\u2501\u2501\u2501\u2501\u2501\u2501\u2501\u2501\u2501\u2501\u2501\u2501\u2501\u2501\u2501\u2501\u2501\u2501\u2501\u2501\u2501\u2501\u2501\u2501\u2501\u2501\u2501\u2501\u2501\u2501\u2501\u2501\u2501\u2501\u2501\u2501\u2501\u2501\u2501\u001b[0m \u001b[32m203.2/203.2 kB\u001b[0m \u001b[31m14.2 MB/s\u001b[0m eta \u001b[36m0:00:00\u001b[0m\n",
                        "\u001b[2K   \u001b[90m\u2501\u2501\u2501\u2501\u2501\u2501\u2501\u2501\u2501\u2501\u2501\u2501\u2501\u2501\u2501\u2501\u2501\u2501\u2501\u2501\u2501\u2501\u2501\u2501\u2501\u2501\u2501\u2501\u2501\u2501\u2501\u2501\u2501\u2501\u2501\u2501\u2501\u2501\u2501\u2501\u001b[0m \u001b[32m49.5/49.5 kB\u001b[0m \u001b[31m3.3 MB/s\u001b[0m eta \u001b[36m0:00:00\u001b[0m\n",
                        "\u001b[2K   \u001b[90m\u2501\u2501\u2501\u2501\u2501\u2501\u2501\u2501\u2501\u2501\u2501\u2501\u2501\u2501\u2501\u2501\u2501\u2501\u2501\u2501\u2501\u2501\u2501\u2501\u2501\u2501\u2501\u2501\u2501\u2501\u2501\u2501\u2501\u2501\u2501\u2501\u2501\u2501\u2501\u2501\u001b[0m \u001b[32m83.2/83.2 kB\u001b[0m \u001b[31m6.0 MB/s\u001b[0m eta \u001b[36m0:00:00\u001b[0m\n",
                        "\u001b[2K   \u001b[90m\u2501\u2501\u2501\u2501\u2501\u2501\u2501\u2501\u2501\u2501\u2501\u2501\u2501\u2501\u2501\u2501\u2501\u2501\u2501\u2501\u2501\u2501\u2501\u2501\u2501\u2501\u2501\u2501\u2501\u2501\u2501\u2501\u2501\u2501\u2501\u2501\u2501\u2501\u2501\u2501\u001b[0m \u001b[32m74.0/74.0 kB\u001b[0m \u001b[31m5.8 MB/s\u001b[0m eta \u001b[36m0:00:00\u001b[0m\n",
                        "\u001b[?25h"
                    ]
                }
            ]
        }
    ]
}